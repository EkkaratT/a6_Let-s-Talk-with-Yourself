{
 "cells": [
  {
   "attachments": {},
   "cell_type": "markdown",
   "metadata": {},
   "source": [
    "# Natural Language Processing\n",
    "\n",
    "# Retrieval-Augmented generation (RAG)\n",
    "\n",
    "RAG is a technique for augmenting LLM knowledge with additional, often private or real-time, data.\n",
    "\n",
    "LLMs can reason about wide-ranging topics, but their knowledge is limited to the public data up to a specific point in time that they were trained on. If you want to build AI applications that can reason about private data or data introduced after a model’s cutoff date, you need to augment the knowledge of the model with the specific information it needs.\n",
    "\n",
    "<img src=\"../figures/RAG-process.png\" >\n",
    "\n",
    "Introducing `ChakyBot`, an innovative chatbot designed to assist Chaky (the instructor) and TA (Gun) in explaining the lesson of the NLP course to students. Leveraging LangChain technology, ChakyBot excels in retrieving information from documents, ensuring a seamless and efficient learning experience for students engaging with the NLP curriculum.\n",
    "\n",
    "1. Prompt\n",
    "2. Retrieval\n",
    "3. Memory\n",
    "4. Chain"
   ]
  },
  {
   "cell_type": "code",
   "execution_count": 2,
   "metadata": {},
   "outputs": [],
   "source": [
    "# #langchain library\n",
    "# !pip install langchain==0.0.350\n",
    "# #LLM\n",
    "# !pip install accelerate==0.25.0\n",
    "# !pip install transformers==4.36.2\n",
    "# !pip install bitsandbytes==0.41.2\n",
    "# #Text Embedding\n",
    "# !pip install sentence-transformers==2.2.2\n",
    "# !pip install InstructorEmbedding==1.0.1\n",
    "# #vectorstore\n",
    "# !pip install pymupdf==1.23.8\n",
    "# !pip install faiss-gpu==1.7.2\n",
    "# !pip install faiss-cpu==1.7.4"
   ]
  },
  {
   "cell_type": "code",
   "execution_count": 3,
   "metadata": {},
   "outputs": [],
   "source": [
    "# #langchain library\n",
    "# !pip install langchain==0.1.13\n",
    "# !pip install langchain-community==0.0.38\n",
    "# #LLM\n",
    "# !pip install accelerate==0.26.0\n",
    "# !pip install transformers==4.45.0\n",
    "# !pip install bitsandbytes==0.41.3\n",
    "# #Text Embedding\n",
    "# !pip install sentence-transformers==2.2.2\n",
    "# !pip install InstructorEmbedding==1.0.1\n",
    "# #vectorstore\n",
    "# !pip install pymupdf==1.23.8\n",
    "# !pip install faiss-gpu\n",
    "# !pip install faiss-cpu==1.7.4\n",
    "# # Hugging Face Hub (Compatible with InstructorEmbedding)\n",
    "# !pip install huggingface_hub==0.23.3\n",
    "# # Other dependencies\n",
    "# !pip install torch==2.2.0 \n",
    "# !pip install torchvision \n",
    "# !pip install nltk \n",
    "# !pip install scikit-learn\n",
    "# !pip install tiktoken"
   ]
  },
  {
   "cell_type": "code",
   "execution_count": 4,
   "metadata": {},
   "outputs": [
    {
     "data": {
      "text/plain": [
       "device(type='cuda')"
      ]
     },
     "execution_count": 4,
     "metadata": {},
     "output_type": "execute_result"
    }
   ],
   "source": [
    "import os\n",
    "import torch\n",
    "# Set GPU device\n",
    "os.environ[\"CUDA_VISIBLE_DEVICES\"] = \"1\"\n",
    "\n",
    "os.environ['http_proxy']  = 'http://192.41.170.23:3128'\n",
    "os.environ['https_proxy'] = 'http://192.41.170.23:3128'\n",
    "\n",
    "device = torch.device('cuda' if torch.cuda.is_available() else 'cpu')\n",
    "device"
   ]
  },
  {
   "attachments": {},
   "cell_type": "markdown",
   "metadata": {},
   "source": [
    "## 1. Prompt\n",
    "\n",
    "A set of instructions or input provided by a user to guide the model's response, helping it understand the context and generate relevant and coherent language-based output, such as answering questions, completing sentences, or engaging in a conversation."
   ]
  },
  {
   "cell_type": "code",
   "execution_count": 5,
   "metadata": {},
   "outputs": [
    {
     "data": {
      "text/plain": [
       "PromptTemplate(input_variables=['context', 'question'], template=\"Hello! I am PeteBot, your AI assistant, here to answer questions about Pete in a polite, \\n    informative, and structured manner. My goal is to provide accurate responses about Pete’s background, education, work experience,\\n    and research interests while maintaining privacy and professionalism.\\n    Just let me know what you're wondering about, and I'll do my best to guide you through it!\\n    {context}\\n    Question: {question}\\n    Answer:\")"
      ]
     },
     "execution_count": 5,
     "metadata": {},
     "output_type": "execute_result"
    }
   ],
   "source": [
    "from langchain import PromptTemplate\n",
    "\n",
    "# prompt_template = \"\"\"\n",
    "#     I'm your friendly NLP chatbot named ChakyBot, here to assist Chaky and Gun with any questions they have about Natural Language Processing (NLP). \n",
    "#     If you're curious about how probability works in the context of NLP, feel free to ask any questions you may have. \n",
    "#     Whether it's about probabilistic models, language models, or any other related topic, \n",
    "#     I'm here to help break down complex concepts into easy-to-understand explanations.\n",
    "#     Just let me know what you're wondering about, and I'll do my best to guide you through it!\n",
    "#     {context}\n",
    "#     Question: {question}\n",
    "#     Answer:\n",
    "#     \"\"\".strip()\n",
    "\n",
    "prompt_template = \"\"\"\n",
    "    Hello! I am PeteBot, your AI assistant, here to answer questions about Pete in a polite, \n",
    "    informative, and structured manner. My goal is to provide accurate responses about Pete’s background, education, work experience,\n",
    "    and research interests while maintaining privacy and professionalism.\n",
    "    Just let me know what you're wondering about, and I'll do my best to guide you through it!\n",
    "    {context}\n",
    "    Question: {question}\n",
    "    Answer:\n",
    "    \"\"\".strip()\n",
    "\n",
    "PROMPT = PromptTemplate.from_template(\n",
    "    template = prompt_template\n",
    ")\n",
    "\n",
    "PROMPT\n",
    "#using str.format \n",
    "#The placeholder is defined using curly brackets: {} {}"
   ]
  },
  {
   "cell_type": "code",
   "execution_count": 6,
   "metadata": {},
   "outputs": [
    {
     "data": {
      "text/plain": [
       "\"Hello! I am PeteBot, your AI assistant, here to answer questions about Pete in a polite, \\n    informative, and structured manner. My goal is to provide accurate responses about Pete’s background, education, work experience,\\n    and research interests while maintaining privacy and professionalism.\\n    Just let me know what you're wondering about, and I'll do my best to guide you through it!\\n    Machine learning (ML) is a field of study in artificial intelligence concerned with the development and study of statistical algorithms that can effectively generalize and thus perform tasks without explicit instructions.\\n    Question: What is Machine Learning\\n    Answer:\""
      ]
     },
     "execution_count": 6,
     "metadata": {},
     "output_type": "execute_result"
    }
   ],
   "source": [
    "PROMPT.format(\n",
    "    context = \"Machine learning (ML) is a field of study in artificial intelligence concerned with the development and study of statistical algorithms that can effectively generalize and thus perform tasks without explicit instructions.\",\n",
    "    question = \"What is Machine Learning\"\n",
    ")"
   ]
  },
  {
   "attachments": {},
   "cell_type": "markdown",
   "metadata": {},
   "source": [
    "Note : [How to improve prompting (Zero-shot, Few-shot, Chain-of-Thought, etc.](https://github.com/chaklam-silpasuwanchai/Natural-Language-Processing/blob/main/Code/05%20-%20RAG/advance/cot-tot-prompting.ipynb)"
   ]
  },
  {
   "attachments": {},
   "cell_type": "markdown",
   "metadata": {},
   "source": [
    "## 2. Retrieval\n",
    "\n",
    "1. `Document loaders` : Load documents from many different sources (HTML, PDF, code). \n",
    "2. `Document transformers` : One of the essential steps in document retrieval is breaking down a large document into smaller, relevant chunks to enhance the retrieval process.\n",
    "3. `Text embedding models` : Embeddings capture the semantic meaning of the text, allowing you to quickly and efficiently find other pieces of text that are similar.\n",
    "4. `Vector stores`: there has emerged a need for databases to support efficient storage and searching of these embeddings.\n",
    "5. `Retrievers` : Once the data is in the database, you still need to retrieve it."
   ]
  },
  {
   "attachments": {},
   "cell_type": "markdown",
   "metadata": {},
   "source": [
    "### 2.1 Document Loaders \n",
    "Use document loaders to load data from a source as Document's. A Document is a piece of text and associated metadata. For example, there are document loaders for loading a simple .txt file, for loading the text contents of any web page, or even for loading a transcript of a YouTube video.\n",
    "\n",
    "[PDF Loader](https://python.langchain.com/docs/modules/data_connection/document_loaders/pdf)\n",
    "\n",
    "[Download Document](https://web.stanford.edu/~jurafsky/slp3/)"
   ]
  },
  {
   "cell_type": "code",
   "execution_count": 7,
   "metadata": {},
   "outputs": [],
   "source": [
    "# from langchain.document_loaders import PyMuPDFLoader\n",
    "\n",
    "# # nlp_docs = '../docs/pdf/SpeechandLanguageProcessing_3rd_07jan2023.pdf'\n",
    "# nlp_docs = 'Personal Profile.pdf'\n",
    "\n",
    "# loader = PyMuPDFLoader(nlp_docs)\n",
    "# documents = loader.load()"
   ]
  },
  {
   "cell_type": "code",
   "execution_count": 8,
   "metadata": {},
   "outputs": [],
   "source": [
    "# multiple pdf\n",
    "\n",
    "import os\n",
    "from langchain.document_loaders import PyMuPDFLoader\n",
    "\n",
    "# Path to the folder containing PDF documents\n",
    "folder_path = 'datasets'\n",
    "\n",
    "# Initialize an empty list to store loaded documents\n",
    "documents = []\n",
    "\n",
    "# Iterate over each file in the folder\n",
    "for file_name in os.listdir(folder_path):\n",
    "    # Check if the file is a PDF\n",
    "    if file_name.endswith('.pdf'):\n",
    "        # Construct the full path to the PDF file\n",
    "        pdf_path = os.path.join(folder_path, file_name)\n",
    "\n",
    "        # Load the PDF document\n",
    "        loader = PyMuPDFLoader(pdf_path)\n",
    "        document = loader.load()\n",
    "\n",
    "        # Add the loaded documents to the list\n",
    "        documents.extend(document)\n",
    "\n",
    "# Now, all_documents contains the loaded documents from all PDFs in the \"datasets\" folder"
   ]
  },
  {
   "cell_type": "code",
   "execution_count": 9,
   "metadata": {},
   "outputs": [],
   "source": [
    "# documents"
   ]
  },
  {
   "cell_type": "code",
   "execution_count": 10,
   "metadata": {},
   "outputs": [
    {
     "data": {
      "text/plain": [
       "5"
      ]
     },
     "execution_count": 10,
     "metadata": {},
     "output_type": "execute_result"
    }
   ],
   "source": [
    "len(documents)"
   ]
  },
  {
   "cell_type": "code",
   "execution_count": 11,
   "metadata": {},
   "outputs": [
    {
     "data": {
      "text/plain": [
       "Document(page_content='Personal Profile: Pete \\nFull Name: Pete  \\nAge: 26 years old \\nCurrent Status: Master’s Student in Data Science & AI \\nUniversity: Asian Institute of Technology (AIT) \\nResearch Interests: Natural Language Processing (NLP), Artificial Intelligence (AI), and Data \\nScience \\nPrevious Education: Bachelor’s Degree in Electrical Engineering (Chiang Mai University, 2021) \\nWork Experience: Former Electrical Engineer (Power Plant, Rayong) – 2 years \\nIndustry Expertise: Energy Sector, Natural Gas Power Generation \\nHobbies & Interests: Playing Badminton, Technology & AI Research \\n \\nI am Pete, I am 26 years old. Born in 1998 , I have always had a deep interest in technology, leading \\nme to pursue studies and a career in engineering and AI. Over the years, my academic and \\nprofessional journey has shaped my passion for problem-solving and innovation. \\n \\nI am currently pursuing my Master’s degree in Data Science and AI at the Asian Institute of \\nTechnology (AIT). My academic journey started with my Bachelor’s degree in Electrical \\nEngineering from Chiang Mai University, which I successfully completed in 2021. \\nMy undergraduate studies provided a solid foundation in electrical systems, power generation, and \\nengineering principles. However, my growing interest in AI and data-driven technologies led me to \\nshift my focus toward data science and artificial intelligence at the graduate level. \\nCurrently, as part of my master’s program, I am studying Natural Language Processing (NLP) this \\nsemester, exploring how machines can understand and process human language. \\n \\nDuring my undergraduate years, I studied a Bachelor’s degree in Electrical Engineering at Chiang \\nMai University. This program equipped me with in-depth knowledge of electrical systems, power \\ngeneration, circuit design, control systems, and energy efficiency. \\nFor my Master’s degree education, I pursue major into the field of Data Science and AI at AIT, \\nwhere I am currently deepening my expertise in areas such as machine learning, deep learning, \\nand NLP. My interest in AI has grown significantly, and I am particularly fascinated by how artificial \\nintelligence can enhance automation, predictive analytics, and natural language \\nunderstanding. \\nI have two years of professional work experience as an Electrical Engineer in the power \\ngeneration industry. \\nAfter graduating with my Bachelor’s degree in 2021, I worked at a natural gas power plant in \\nRayong, Thailand. During my tenure, I was responsible for monitoring and maintaining electrical \\n', metadata={'source': 'datasets/Personal Profile.pdf', 'file_path': 'datasets/Personal Profile.pdf', 'page': 0, 'total_pages': 4, 'format': 'PDF 1.7', 'title': '', 'author': 'ekkarat techanawakarnkul', 'subject': '', 'keywords': '', 'creator': 'Microsoft® Word for Microsoft 365', 'producer': 'Microsoft® Word for Microsoft 365', 'creationDate': \"D:20250314005220+07'00'\", 'modDate': \"D:20250314005220+07'00'\", 'trapped': ''})"
      ]
     },
     "execution_count": 11,
     "metadata": {},
     "output_type": "execute_result"
    }
   ],
   "source": [
    "documents[1]"
   ]
  },
  {
   "attachments": {},
   "cell_type": "markdown",
   "metadata": {},
   "source": [
    "### 2.2 Document Transformers\n",
    "\n",
    "This text splitter is the recommended one for generic text. It is parameterized by a list of characters. It tries to split on them in order until the chunks are small enough"
   ]
  },
  {
   "cell_type": "code",
   "execution_count": 12,
   "metadata": {},
   "outputs": [],
   "source": [
    "from langchain.text_splitter import RecursiveCharacterTextSplitter\n",
    "\n",
    "text_splitter = RecursiveCharacterTextSplitter(\n",
    "    chunk_size = 700,\n",
    "    chunk_overlap = 100\n",
    ")\n",
    "\n",
    "doc = text_splitter.split_documents(documents)"
   ]
  },
  {
   "cell_type": "code",
   "execution_count": 13,
   "metadata": {},
   "outputs": [
    {
     "data": {
      "text/plain": [
       "Document(page_content='Ekkarat Techanawakarnkul\\nWORK EXPERIENCE\\nEDUCATION\\nAug 2024 - Present\\nCHIANG MAI UNIVERSITY\\nBachelor Degree, Majors: Electrical Engineering           GPA 3.55 (HONOR)\\nAug 2017 - Mar 2021\\nProject: Battery Management System for Electric Vehicle\\nMachine Learning Project: CO₂ Emission Prediction for Power Generation\\n    - Developed a machine learning model to predict CO₂ emissions from various types of power plants,\\nhelping policymakers optimize the energy mix for a sustainable, zero-carbon future.\\nComputer Programing Project: Customer Segmentation \\n    -  Implemented customer segmentation by applying K-means clustering on RFM (Recency, Frequency,', metadata={'source': 'datasets/Resume-Ekkarat Techanawakarnkul.pdf', 'file_path': 'datasets/Resume-Ekkarat Techanawakarnkul.pdf', 'page': 0, 'total_pages': 1, 'format': 'PDF 1.4', 'title': 'Ekkarat Techanawakarnkul', 'author': 'Ekkarat Techanawakarnkul', 'subject': '', 'keywords': 'DAGhZZCxPQY,BADrDxbS5HE,0', 'creator': 'Canva', 'producer': 'Canva', 'creationDate': \"D:20250315125202+00'00'\", 'modDate': \"D:20250315125202+00'00'\", 'trapped': ''})"
      ]
     },
     "execution_count": 13,
     "metadata": {},
     "output_type": "execute_result"
    }
   ],
   "source": [
    "doc[1]"
   ]
  },
  {
   "cell_type": "code",
   "execution_count": 14,
   "metadata": {},
   "outputs": [
    {
     "data": {
      "text/plain": [
       "19"
      ]
     },
     "execution_count": 14,
     "metadata": {},
     "output_type": "execute_result"
    }
   ],
   "source": [
    "len(doc)"
   ]
  },
  {
   "attachments": {},
   "cell_type": "markdown",
   "metadata": {},
   "source": [
    "### 2.3 Text Embedding Models\n",
    "Embeddings create a vector representation of a piece of text. This is useful because it means we can think about text in the vector space, and do things like semantic search where we look for pieces of text that are most similar in the vector space.\n",
    "\n",
    "*Note* Instructor Model : [Huggingface](gingface.co/hkunlp/instructor-base) | [Paper](https://arxiv.org/abs/2212.09741)"
   ]
  },
  {
   "cell_type": "code",
   "execution_count": 15,
   "metadata": {},
   "outputs": [
    {
     "name": "stderr",
     "output_type": "stream",
     "text": [
      "/home/jupyter-st124945/.local/lib/python3.12/site-packages/InstructorEmbedding/instructor.py:7: TqdmExperimentalWarning: Using `tqdm.autonotebook.tqdm` in notebook mode. Use `tqdm.tqdm` instead to force console mode (e.g. in jupyter console)\n",
      "  from tqdm.autonotebook import trange\n"
     ]
    },
    {
     "name": "stdout",
     "output_type": "stream",
     "text": [
      "load INSTRUCTOR_Transformer\n",
      "max_seq_length  512\n"
     ]
    },
    {
     "name": "stderr",
     "output_type": "stream",
     "text": [
      "/home/jupyter-st124945/.local/lib/python3.12/site-packages/transformers/tokenization_utils_base.py:1617: FutureWarning: `clean_up_tokenization_spaces` was not set. It will be set to `True` by default. This behavior will be deprecated in transformers v4.45, and will be then set to `False` by default. For more details check this issue: https://github.com/huggingface/transformers/issues/31884\n",
      "  warnings.warn(\n"
     ]
    }
   ],
   "source": [
    "import torch\n",
    "from langchain.embeddings import HuggingFaceInstructEmbeddings\n",
    "\n",
    "model_name = 'hkunlp/instructor-base'\n",
    "\n",
    "embedding_model = HuggingFaceInstructEmbeddings(\n",
    "    model_name = model_name,\n",
    "    model_kwargs = {\"device\" : device}\n",
    ")"
   ]
  },
  {
   "attachments": {},
   "cell_type": "markdown",
   "metadata": {},
   "source": [
    "### 2.4 Vector Stores\n",
    "\n",
    "One of the most common ways to store and search over unstructured data is to embed it and store the resulting embedding vectors, and then at query time to embed the unstructured query and retrieve the embedding vectors that are 'most similar' to the embedded query. A vector store takes care of storing embedded data and performing vector search for you."
   ]
  },
  {
   "cell_type": "code",
   "execution_count": 16,
   "metadata": {},
   "outputs": [],
   "source": [
    "#locate vectorstore\n",
    "vector_path = '../a6/vector-store'\n",
    "if not os.path.exists(vector_path):\n",
    "    os.makedirs(vector_path)\n",
    "    print('create path done')"
   ]
  },
  {
   "cell_type": "code",
   "execution_count": 17,
   "metadata": {},
   "outputs": [],
   "source": [
    "# pip install faiss-cpu"
   ]
  },
  {
   "cell_type": "code",
   "execution_count": 18,
   "metadata": {},
   "outputs": [],
   "source": [
    "#save vector locally\n",
    "from langchain.vectorstores import FAISS\n",
    "\n",
    "vectordb = FAISS.from_documents(\n",
    "    documents = doc,\n",
    "    embedding = embedding_model\n",
    ")\n",
    "\n",
    "db_file_name = 'nlp_stanford'\n",
    "\n",
    "vectordb.save_local(\n",
    "    folder_path = os.path.join(vector_path, db_file_name),\n",
    "    index_name = 'nlp' #default index\n",
    ")"
   ]
  },
  {
   "attachments": {},
   "cell_type": "markdown",
   "metadata": {},
   "source": [
    "### 2.5 retrievers\n",
    "A retriever is an interface that returns documents given an unstructured query. It is more general than a vector store. A retriever does not need to be able to store documents, only to return (or retrieve) them. Vector stores can be used as the backbone of a retriever, but there are other types of retrievers as well."
   ]
  },
  {
   "cell_type": "code",
   "execution_count": 19,
   "metadata": {},
   "outputs": [],
   "source": [
    "#calling vector from local\n",
    "vector_path = '../a6/vector-store'\n",
    "db_file_name = 'nlp_stanford'\n",
    "\n",
    "from langchain.vectorstores import FAISS\n",
    "\n",
    "vectordb = FAISS.load_local(\n",
    "    folder_path = os.path.join(vector_path, db_file_name),\n",
    "    embeddings = embedding_model,\n",
    "    index_name = 'nlp', #default index\n",
    "    allow_dangerous_deserialization=True\n",
    ")   "
   ]
  },
  {
   "cell_type": "code",
   "execution_count": 20,
   "metadata": {},
   "outputs": [],
   "source": [
    "#ready to use\n",
    "retriever = vectordb.as_retriever()"
   ]
  },
  {
   "cell_type": "code",
   "execution_count": 21,
   "metadata": {},
   "outputs": [
    {
     "name": "stderr",
     "output_type": "stream",
     "text": [
      "/home/jupyter-st124945/.local/lib/python3.12/site-packages/langchain_core/_api/deprecation.py:119: LangChainDeprecationWarning: The method `BaseRetriever.get_relevant_documents` was deprecated in langchain-core 0.1.46 and will be removed in 0.3.0. Use invoke instead.\n",
      "  warn_deprecated(\n"
     ]
    },
    {
     "data": {
      "text/plain": [
       "[Document(page_content='updated with new models, techniques, and technologies is challenging but exciting. \\n Technical complexity – Some areas, such as deep learning, NLP, and big data processing, \\ninvolve complex mathematical and programming concepts that require deep understanding and \\npractice. \\nDespite these challenges, I enjoy learning and exploring new AI techniques that can be applied in \\nreal-world scenarios. \\nDuring my Master’s program, my primary research focus is on Natural Language Processing (NLP) \\nand its applications. \\n Enhancing AI models to improve text understanding and generation \\n Applying NLP techniques in real-world industries, such as energy management, automation,', metadata={'source': 'datasets/Personal Profile.pdf', 'file_path': 'datasets/Personal Profile.pdf', 'page': 2, 'total_pages': 4, 'format': 'PDF 1.7', 'title': '', 'author': 'ekkarat techanawakarnkul', 'subject': '', 'keywords': '', 'creator': 'Microsoft® Word for Microsoft 365', 'producer': 'Microsoft® Word for Microsoft 365', 'creationDate': \"D:20250314005220+07'00'\", 'modDate': \"D:20250314005220+07'00'\", 'trapped': ''}),\n",
       " Document(page_content='intelligence, automation, and data science has led me to transition into the field of Data Science \\nand AI. I believe that AI-driven solutions can revolutionize industries like power generation, making \\nthem more sustainable, efficient, and data-driven. \\n \\nCurrently, I am a Master’s student at AIT, focusing on Data Science and AI, with a specialization \\nin Natural Language Processing (NLP) this semester. My primary responsibilities as a student \\ninclude: \\nConducting research on NLP models, machine learning algorithms, and AI applications \\n Engaging in coursework related to AI, deep learning, and data-driven technologies \\n Developing machine learning models for various AI-driven projects', metadata={'source': 'datasets/Personal Profile.pdf', 'file_path': 'datasets/Personal Profile.pdf', 'page': 1, 'total_pages': 4, 'format': 'PDF 1.7', 'title': '', 'author': 'ekkarat techanawakarnkul', 'subject': '', 'keywords': '', 'creator': 'Microsoft® Word for Microsoft 365', 'producer': 'Microsoft® Word for Microsoft 365', 'creationDate': \"D:20250314005220+07'00'\", 'modDate': \"D:20250314005220+07'00'\", 'trapped': ''}),\n",
       " Document(page_content='engineering principles. However, my growing interest in AI and data-driven technologies led me to \\nshift my focus toward data science and artificial intelligence at the graduate level. \\nCurrently, as part of my master’s program, I am studying Natural Language Processing (NLP) this \\nsemester, exploring how machines can understand and process human language. \\n \\nDuring my undergraduate years, I studied a Bachelor’s degree in Electrical Engineering at Chiang \\nMai University. This program equipped me with in-depth knowledge of electrical systems, power \\ngeneration, circuit design, control systems, and energy efficiency.', metadata={'source': 'datasets/Personal Profile.pdf', 'file_path': 'datasets/Personal Profile.pdf', 'page': 0, 'total_pages': 4, 'format': 'PDF 1.7', 'title': '', 'author': 'ekkarat techanawakarnkul', 'subject': '', 'keywords': '', 'creator': 'Microsoft® Word for Microsoft 365', 'producer': 'Microsoft® Word for Microsoft 365', 'creationDate': \"D:20250314005220+07'00'\", 'modDate': \"D:20250314005220+07'00'\", 'trapped': ''}),\n",
       " Document(page_content='generation, circuit design, control systems, and energy efficiency. \\nFor my Master’s degree education, I pursue major into the field of Data Science and AI at AIT, \\nwhere I am currently deepening my expertise in areas such as machine learning, deep learning, \\nand NLP. My interest in AI has grown significantly, and I am particularly fascinated by how artificial \\nintelligence can enhance automation, predictive analytics, and natural language \\nunderstanding. \\nI have two years of professional work experience as an Electrical Engineer in the power \\ngeneration industry. \\nAfter graduating with my Bachelor’s degree in 2021, I worked at a natural gas power plant in', metadata={'source': 'datasets/Personal Profile.pdf', 'file_path': 'datasets/Personal Profile.pdf', 'page': 0, 'total_pages': 4, 'format': 'PDF 1.7', 'title': '', 'author': 'ekkarat techanawakarnkul', 'subject': '', 'keywords': '', 'creator': 'Microsoft® Word for Microsoft 365', 'producer': 'Microsoft® Word for Microsoft 365', 'creationDate': \"D:20250314005220+07'00'\", 'modDate': \"D:20250314005220+07'00'\", 'trapped': ''})]"
      ]
     },
     "execution_count": 21,
     "metadata": {},
     "output_type": "execute_result"
    }
   ],
   "source": [
    "retriever.get_relevant_documents(\"What is Dependency Parsing\")"
   ]
  },
  {
   "cell_type": "code",
   "execution_count": 22,
   "metadata": {},
   "outputs": [
    {
     "data": {
      "text/plain": [
       "[Document(page_content='systems, ensuring power efficiency, and overseeing the safety and operational stability of \\npower generation units. \\nMy experience in the energy sector provided me with hands-on exposure to large-scale industrial \\noperations, energy management, and problem-solving in high-stakes environments. \\nNow, as I transition into the field of data science and AI, I am looking forward to combining my \\nengineering background with AI-driven solutions to optimize power systems and automation \\ntechnologies. \\n \\nI have primarily been involved in the power generation and energy industry. My work as an \\nElectrical Engineer was focused on the operation and maintenance of a natural gas power plant', metadata={'source': 'datasets/Personal Profile.pdf', 'file_path': 'datasets/Personal Profile.pdf', 'page': 1, 'total_pages': 4, 'format': 'PDF 1.7', 'title': '', 'author': 'ekkarat techanawakarnkul', 'subject': '', 'keywords': '', 'creator': 'Microsoft® Word for Microsoft 365', 'producer': 'Microsoft® Word for Microsoft 365', 'creationDate': \"D:20250314005220+07'00'\", 'modDate': \"D:20250314005220+07'00'\", 'trapped': ''}),\n",
       " Document(page_content='After graduating with my Bachelor’s degree in 2021, I worked at a natural gas power plant in \\nRayong, Thailand. During my tenure, I was responsible for monitoring and maintaining electrical', metadata={'source': 'datasets/Personal Profile.pdf', 'file_path': 'datasets/Personal Profile.pdf', 'page': 0, 'total_pages': 4, 'format': 'PDF 1.7', 'title': '', 'author': 'ekkarat techanawakarnkul', 'subject': '', 'keywords': '', 'creator': 'Microsoft® Word for Microsoft 365', 'producer': 'Microsoft® Word for Microsoft 365', 'creationDate': \"D:20250314005220+07'00'\", 'modDate': \"D:20250314005220+07'00'\", 'trapped': ''}),\n",
       " Document(page_content='Ethical AI is crucial – As AI becomes more powerful, we must ensure it remains unbiased, \\ntransparent, and ethical. \\n Sustainability matters – AI and automation can help reduce energy waste, making industries more \\neco-friendly. \\n Education is key – The future of technology relies on how well we educate and train future \\ngenerations in AI and digital skills. \\nI see AI as a transformative tool that, when used correctly, can improve efficiency, drive \\ninnovation, and create new opportunities while ensuring fairness and accountability. \\n \\nCultural values play a crucial role in shaping technological advancements. Since technology', metadata={'source': 'datasets/Personal Profile.pdf', 'file_path': 'datasets/Personal Profile.pdf', 'page': 2, 'total_pages': 4, 'format': 'PDF 1.7', 'title': '', 'author': 'ekkarat techanawakarnkul', 'subject': '', 'keywords': '', 'creator': 'Microsoft® Word for Microsoft 365', 'producer': 'Microsoft® Word for Microsoft 365', 'creationDate': \"D:20250314005220+07'00'\", 'modDate': \"D:20250314005220+07'00'\", 'trapped': ''}),\n",
       " Document(page_content='generation, circuit design, control systems, and energy efficiency. \\nFor my Master’s degree education, I pursue major into the field of Data Science and AI at AIT, \\nwhere I am currently deepening my expertise in areas such as machine learning, deep learning, \\nand NLP. My interest in AI has grown significantly, and I am particularly fascinated by how artificial \\nintelligence can enhance automation, predictive analytics, and natural language \\nunderstanding. \\nI have two years of professional work experience as an Electrical Engineer in the power \\ngeneration industry. \\nAfter graduating with my Bachelor’s degree in 2021, I worked at a natural gas power plant in', metadata={'source': 'datasets/Personal Profile.pdf', 'file_path': 'datasets/Personal Profile.pdf', 'page': 0, 'total_pages': 4, 'format': 'PDF 1.7', 'title': '', 'author': 'ekkarat techanawakarnkul', 'subject': '', 'keywords': '', 'creator': 'Microsoft® Word for Microsoft 365', 'producer': 'Microsoft® Word for Microsoft 365', 'creationDate': \"D:20250314005220+07'00'\", 'modDate': \"D:20250314005220+07'00'\", 'trapped': ''})]"
      ]
     },
     "execution_count": 22,
     "metadata": {},
     "output_type": "execute_result"
    }
   ],
   "source": [
    "retriever.get_relevant_documents(\"What is Transformers\")"
   ]
  },
  {
   "attachments": {},
   "cell_type": "markdown",
   "metadata": {},
   "source": [
    "## 3. Memory\n",
    "\n",
    "One of the core utility classes underpinning most (if not all) memory modules is the ChatMessageHistory class. This is a super lightweight wrapper that provides convenience methods for saving HumanMessages, AIMessages, and then fetching them all.\n",
    "\n",
    "You may want to use this class directly if you are managing memory outside of a chain.\n"
   ]
  },
  {
   "cell_type": "code",
   "execution_count": 23,
   "metadata": {},
   "outputs": [
    {
     "data": {
      "text/plain": [
       "InMemoryChatMessageHistory(messages=[])"
      ]
     },
     "execution_count": 23,
     "metadata": {},
     "output_type": "execute_result"
    }
   ],
   "source": [
    "from langchain.memory import ChatMessageHistory\n",
    "\n",
    "history = ChatMessageHistory()\n",
    "history"
   ]
  },
  {
   "cell_type": "code",
   "execution_count": 24,
   "metadata": {},
   "outputs": [],
   "source": [
    "history.add_user_message('hi')\n",
    "history.add_ai_message('Whats up?')\n",
    "history.add_user_message('How are you')\n",
    "history.add_ai_message('I\\'m quite good. How about you?')"
   ]
  },
  {
   "cell_type": "code",
   "execution_count": 25,
   "metadata": {},
   "outputs": [
    {
     "data": {
      "text/plain": [
       "InMemoryChatMessageHistory(messages=[HumanMessage(content='hi'), AIMessage(content='Whats up?'), HumanMessage(content='How are you'), AIMessage(content=\"I'm quite good. How about you?\")])"
      ]
     },
     "execution_count": 25,
     "metadata": {},
     "output_type": "execute_result"
    }
   ],
   "source": [
    "history"
   ]
  },
  {
   "attachments": {},
   "cell_type": "markdown",
   "metadata": {},
   "source": [
    "### 3.1 Memory types\n",
    "\n",
    "There are many different types of memory. Each has their own parameters, their own return types, and is useful in different scenarios. \n",
    "- Converstaion Buffer\n",
    "- Converstaion Buffer Window"
   ]
  },
  {
   "attachments": {},
   "cell_type": "markdown",
   "metadata": {},
   "source": [
    "What variables get returned from memory\n",
    "\n",
    "Before going into the chain, various variables are read from memory. These have specific names which need to align with the variables the chain expects. You can see what these variables are by calling memory.load_memory_variables({}). Note that the empty dictionary that we pass in is just a placeholder for real variables. If the memory type you are using is dependent upon the input variables, you may need to pass some in."
   ]
  },
  {
   "attachments": {},
   "cell_type": "markdown",
   "metadata": {},
   "source": [
    "In this case, you can see that load_memory_variables returns a single key, history. This means that your chain (and likely your prompt) should expect an input named history. You can usually control this variable through parameters on the memory class. For example, if you want the memory variables to be returned in the key chat_history you can do:"
   ]
  },
  {
   "attachments": {},
   "cell_type": "markdown",
   "metadata": {},
   "source": [
    "#### Converstaion Buffer\n",
    "This memory allows for storing messages and then extracts the messages in a variable."
   ]
  },
  {
   "cell_type": "code",
   "execution_count": 26,
   "metadata": {},
   "outputs": [
    {
     "data": {
      "text/plain": [
       "{'history': \"Human: hi\\nAI: What's up?\\nHuman: How are you?\\nAI: I'm quite good. How about you?\"}"
      ]
     },
     "execution_count": 26,
     "metadata": {},
     "output_type": "execute_result"
    }
   ],
   "source": [
    "from langchain.memory import ConversationBufferMemory\n",
    "\n",
    "memory = ConversationBufferMemory()\n",
    "memory.save_context({'input':'hi'}, {'output':'What\\'s up?'})\n",
    "memory.save_context({\"input\":'How are you?'},{'output': 'I\\'m quite good. How about you?'})\n",
    "memory.load_memory_variables({})"
   ]
  },
  {
   "cell_type": "code",
   "execution_count": 27,
   "metadata": {},
   "outputs": [
    {
     "data": {
      "text/plain": [
       "{'history': [HumanMessage(content='hi'),\n",
       "  AIMessage(content=\"What's up?\"),\n",
       "  HumanMessage(content='How are you?'),\n",
       "  AIMessage(content=\"I'm quite good. How about you?\")]}"
      ]
     },
     "execution_count": 27,
     "metadata": {},
     "output_type": "execute_result"
    }
   ],
   "source": [
    "from langchain.memory import ConversationBufferMemory\n",
    "\n",
    "memory = ConversationBufferMemory(return_messages = True)\n",
    "memory.save_context({'input':'hi'}, {'output':'What\\'s up?'})\n",
    "memory.save_context({\"input\":'How are you?'},{'output': 'I\\'m quite good. How about you?'})\n",
    "memory.load_memory_variables({})"
   ]
  },
  {
   "attachments": {},
   "cell_type": "markdown",
   "metadata": {},
   "source": [
    "#### Conversation Buffer Window\n",
    "- it keeps a list of the interactions of the conversation over time. \n",
    "- it only uses the last K interactions. \n",
    "- it can be useful for keeping a sliding window of the most recent interactions, so the buffer does not get too large."
   ]
  },
  {
   "cell_type": "code",
   "execution_count": 28,
   "metadata": {},
   "outputs": [
    {
     "data": {
      "text/plain": [
       "{'history': \"Human: How are you?\\nAI: I'm quite good. How about you?\"}"
      ]
     },
     "execution_count": 28,
     "metadata": {},
     "output_type": "execute_result"
    }
   ],
   "source": [
    "from langchain.memory import ConversationBufferWindowMemory\n",
    "\n",
    "memory = ConversationBufferWindowMemory(k=1)\n",
    "memory.save_context({'input':'hi'}, {'output':'What\\'s up?'})\n",
    "memory.save_context({\"input\":'How are you?'},{'output': 'I\\'m quite good. How about you?'})\n",
    "memory.load_memory_variables({})"
   ]
  },
  {
   "attachments": {},
   "cell_type": "markdown",
   "metadata": {},
   "source": [
    "## 4. Chain\n",
    "\n",
    "Using an LLM in isolation is fine for simple applications, but more complex applications require chaining LLMs - either with each other or with other components.\n",
    "\n",
    "An `LLMChain` is a simple chain that adds some functionality around language models.\n",
    "- it consists of a `PromptTemplate` and a `LM` (either an LLM or chat model).\n",
    "- it formats the prompt template using the input key values provided (and also memory key values, if available), \n",
    "- it passes the formatted string to LLM and returns the LLM output.\n",
    "\n",
    "Note : [Download Fastchat Model Here](https://huggingface.co/lmsys/fastchat-t5-3b-v1.0)"
   ]
  },
  {
   "cell_type": "code",
   "execution_count": 29,
   "metadata": {},
   "outputs": [],
   "source": [
    "# %cd ./models\n",
    "# !git clone https://huggingface.co/lmsys/fastchat-t5-3b-v1.0"
   ]
  },
  {
   "cell_type": "code",
   "execution_count": 30,
   "metadata": {},
   "outputs": [],
   "source": [
    "# from transformers import AutoTokenizer, pipeline, AutoModelForSeq2SeqLM\n",
    "# from transformers import BitsAndBytesConfig\n",
    "# from langchain import HuggingFacePipeline\n",
    "# import torch\n",
    "\n",
    "# model_id = \"lmsys/fastchat-t5-3b-v1.0\"\n",
    "\n",
    "# tokenizer = AutoTokenizer.from_pretrained(model_id)\n",
    "# tokenizer.save_pretrained(\"../models/fastchat-t5-3b-v1.0/\")\n",
    "\n",
    "# tokenizer.pad_token_id = tokenizer.eos_token_id\n",
    "\n",
    "# bitsandbyte_config = BitsAndBytesConfig(\n",
    "#     load_in_4bit = True,\n",
    "#     bnb_4bit_quant_type = \"nf4\",\n",
    "#     bnb_4bit_compute_dtype = torch.float16,\n",
    "#     bnb_4bit_use_double_quant = True\n",
    "# )\n",
    "\n",
    "# # model = AutoModelForSeq2SeqLM.from_pretrained(\n",
    "# #     model_id,\n",
    "# #     quantization_config = bitsandbyte_config, #caution Nvidia\n",
    "# #     device_map = 'auto',\n",
    "# #     load_in_4bit = True\n",
    "# # )\n",
    "\n",
    "# # model = AutoModelForSeq2SeqLM.from_pretrained(model_id).to(\"cuda\")\n",
    "\n",
    "# pipe = pipeline(\n",
    "#     task=\"text2text-generation\",\n",
    "#     model=model,\n",
    "#     tokenizer=tokenizer,\n",
    "#     max_new_tokens = 128,\n",
    "#     model_kwargs = {\n",
    "#         \"temperature\" : 0,\n",
    "#         \"repetition_penalty\": 1.5\n",
    "#     }\n",
    "# )\n",
    "\n",
    "# llm = HuggingFacePipeline(pipeline = pipe)"
   ]
  },
  {
   "cell_type": "code",
   "execution_count": 31,
   "metadata": {},
   "outputs": [
    {
     "name": "stderr",
     "output_type": "stream",
     "text": [
      "2025-03-15 12:54:47.802200: E external/local_xla/xla/stream_executor/cuda/cuda_fft.cc:477] Unable to register cuFFT factory: Attempting to register factory for plugin cuFFT when one has already been registered\n",
      "WARNING: All log messages before absl::InitializeLog() is called are written to STDERR\n",
      "E0000 00:00:1742043287.825122   47062 cuda_dnn.cc:8310] Unable to register cuDNN factory: Attempting to register factory for plugin cuDNN when one has already been registered\n",
      "E0000 00:00:1742043287.832024   47062 cuda_blas.cc:1418] Unable to register cuBLAS factory: Attempting to register factory for plugin cuBLAS when one has already been registered\n",
      "2025-03-15 12:54:47.857394: I tensorflow/core/platform/cpu_feature_guard.cc:210] This TensorFlow binary is optimized to use available CPU instructions in performance-critical operations.\n",
      "To enable the following instructions: AVX2 FMA, in other operations, rebuild TensorFlow with the appropriate compiler flags.\n",
      "You are using the default legacy behaviour of the <class 'transformers.models.t5.tokenization_t5.T5Tokenizer'>. This is expected, and simply means that the `legacy` (previous) behavior will be used so nothing changes for you. If you want to use the new behaviour, set `legacy=False`. This should only be set if you understand what it means, and thoroughly read the reason why this was added as explained in https://github.com/huggingface/transformers/pull/24565\n"
     ]
    }
   ],
   "source": [
    "from transformers import AutoTokenizer, pipeline, AutoModelForSeq2SeqLM\n",
    "from transformers import BitsAndBytesConfig\n",
    "from langchain import HuggingFacePipeline\n",
    "import torch\n",
    "\n",
    "model_id = \"lmsys/fastchat-t5-3b-v1.0\"\n",
    "\n",
    "tokenizer = AutoTokenizer.from_pretrained(model_id, use_fast=False)\n",
    "tokenizer.save_pretrained(\"../a6/models/fastchat-t5-3b-v1.0/\")\n",
    "\n",
    "tokenizer.pad_token_id = tokenizer.eos_token_id\n",
    "\n",
    "# bitsandbyte_config = BitsAndBytesConfig(\n",
    "#     load_in_4bit = True,\n",
    "#     bnb_4bit_quant_type = \"nf4\",\n",
    "#     bnb_4bit_compute_dtype = torch.float16,\n",
    "#     bnb_4bit_use_double_quant = True\n",
    "# )\n",
    "\n",
    "# model = AutoModelForSeq2SeqLM.from_pretrained(\n",
    "#     model_id,\n",
    "#     quantization_config = bitsandbyte_config, #caution Nvidia\n",
    "#     device_map = 'auto',\n",
    "#     load_in_4bit = True\n",
    "# )\n",
    "\n",
    "# model = AutoModelForSeq2SeqLM.from_pretrained(model_id).to(\"cuda\")\n",
    "\n",
    "# bitsandbyte_config = BitsAndBytesConfig(\n",
    "#     load_in_8bit=True,  # Instead of 4-bit\n",
    "# )\n",
    "\n",
    "# model = AutoModelForSeq2SeqLM.from_pretrained(\n",
    "#     model_id,\n",
    "#     quantization_config=bitsandbyte_config,\n",
    "#     device_map=\"auto\"\n",
    "# )\n",
    "\n",
    "model = AutoModelForSeq2SeqLM.from_pretrained(\n",
    "    model_id,\n",
    "    device_map=\"cpu\" \n",
    ")\n",
    "\n",
    "pipe = pipeline(\n",
    "    task=\"text2text-generation\",\n",
    "    model=model,\n",
    "    tokenizer=tokenizer,\n",
    "    max_new_tokens = 256,\n",
    "    model_kwargs = {\n",
    "        \"temperature\" : 0,\n",
    "        \"repetition_penalty\": 1.5\n",
    "    }\n",
    ")\n",
    "\n",
    "llm = HuggingFacePipeline(pipeline = pipe)"
   ]
  },
  {
   "attachments": {},
   "cell_type": "markdown",
   "metadata": {},
   "source": [
    "### [Class ConversationalRetrievalChain](https://api.python.langchain.com/en/latest/_modules/langchain/chains/conversational_retrieval/base.html#ConversationalRetrievalChain)\n",
    "\n",
    "- `retriever` : Retriever to use to fetch documents.\n",
    "\n",
    "- `combine_docs_chain` : The chain used to combine any retrieved documents.\n",
    "\n",
    "- `question_generator`: The chain used to generate a new question for the sake of retrieval. This chain will take in the current question (with variable question) and any chat history (with variable chat_history) and will produce a new standalone question to be used later on.\n",
    "\n",
    "- `return_source_documents` : Return the retrieved source documents as part of the final result.\n",
    "\n",
    "- `get_chat_history` : An optional function to get a string of the chat history. If None is provided, will use a default.\n",
    "\n",
    "- `return_generated_question` : Return the generated question as part of the final result.\n",
    "\n",
    "- `response_if_no_docs_found` : If specified, the chain will return a fixed response if no docs are found for the question.\n"
   ]
  },
  {
   "attachments": {},
   "cell_type": "markdown",
   "metadata": {},
   "source": [
    "`question_generator`"
   ]
  },
  {
   "cell_type": "code",
   "execution_count": 32,
   "metadata": {},
   "outputs": [],
   "source": [
    "from langchain.chains import LLMChain\n",
    "from langchain.chains.conversational_retrieval.prompts import CONDENSE_QUESTION_PROMPT\n",
    "from langchain.memory import ConversationBufferWindowMemory\n",
    "from langchain.chains.question_answering import load_qa_chain\n",
    "from langchain.chains import ConversationalRetrievalChain"
   ]
  },
  {
   "cell_type": "code",
   "execution_count": 33,
   "metadata": {},
   "outputs": [
    {
     "data": {
      "text/plain": [
       "PromptTemplate(input_variables=['chat_history', 'question'], template='Given the following conversation and a follow up question, rephrase the follow up question to be a standalone question, in its original language.\\n\\nChat History:\\n{chat_history}\\nFollow Up Input: {question}\\nStandalone question:')"
      ]
     },
     "execution_count": 33,
     "metadata": {},
     "output_type": "execute_result"
    }
   ],
   "source": [
    "CONDENSE_QUESTION_PROMPT"
   ]
  },
  {
   "cell_type": "code",
   "execution_count": 34,
   "metadata": {},
   "outputs": [],
   "source": [
    "question_generator = LLMChain(\n",
    "    llm = llm,\n",
    "    prompt = CONDENSE_QUESTION_PROMPT,\n",
    "    verbose = True\n",
    ")"
   ]
  },
  {
   "cell_type": "code",
   "execution_count": 35,
   "metadata": {},
   "outputs": [
    {
     "name": "stderr",
     "output_type": "stream",
     "text": [
      "/home/jupyter-st124945/.local/lib/python3.12/site-packages/langchain_core/_api/deprecation.py:119: LangChainDeprecationWarning: The method `Chain.__call__` was deprecated in langchain 0.1.0 and will be removed in 0.2.0. Use invoke instead.\n",
      "  warn_deprecated(\n"
     ]
    },
    {
     "name": "stdout",
     "output_type": "stream",
     "text": [
      "\n",
      "\n",
      "\u001b[1m> Entering new LLMChain chain...\u001b[0m\n",
      "Prompt after formatting:\n",
      "\u001b[32;1m\u001b[1;3mGiven the following conversation and a follow up question, rephrase the follow up question to be a standalone question, in its original language.\n",
      "\n",
      "Chat History:\n",
      "Human:What is Machine Learning\n",
      "AI:\n",
      "Human:What is Deep Learning\n",
      "AI:\n",
      "Follow Up Input: Comparing both of them\n",
      "Standalone question:\u001b[0m\n",
      "\n",
      "\u001b[1m> Finished chain.\u001b[0m\n"
     ]
    },
    {
     "data": {
      "text/plain": [
       "{'chat_history': 'Human:What is Machine Learning\\nAI:\\nHuman:What is Deep Learning\\nAI:',\n",
       " 'question': 'Comparing both of them',\n",
       " 'text': 'What are the main differences between Machine Learning and Deep Learning AI?'}"
      ]
     },
     "execution_count": 35,
     "metadata": {},
     "output_type": "execute_result"
    }
   ],
   "source": [
    "query = 'Comparing both of them'\n",
    "chat_history = \"Human:What is Machine Learning\\nAI:\\nHuman:What is Deep Learning\\nAI:\"\n",
    "\n",
    "question_generator({'chat_history' : chat_history, \"question\" : query})"
   ]
  },
  {
   "attachments": {},
   "cell_type": "markdown",
   "metadata": {},
   "source": [
    "`combine_docs_chain`"
   ]
  },
  {
   "cell_type": "code",
   "execution_count": 36,
   "metadata": {},
   "outputs": [
    {
     "data": {
      "text/plain": [
       "StuffDocumentsChain(verbose=True, llm_chain=LLMChain(verbose=True, prompt=PromptTemplate(input_variables=['context', 'question'], template=\"Hello! I am PeteBot, your AI assistant, here to answer questions about Pete in a polite, \\n    informative, and structured manner. My goal is to provide accurate responses about Pete’s background, education, work experience,\\n    and research interests while maintaining privacy and professionalism.\\n    Just let me know what you're wondering about, and I'll do my best to guide you through it!\\n    {context}\\n    Question: {question}\\n    Answer:\"), llm=HuggingFacePipeline(pipeline=<transformers.pipelines.text2text_generation.Text2TextGenerationPipeline object at 0x7544f9bd88c0>)), document_variable_name='context')"
      ]
     },
     "execution_count": 36,
     "metadata": {},
     "output_type": "execute_result"
    }
   ],
   "source": [
    "doc_chain = load_qa_chain(\n",
    "    llm = llm,\n",
    "    chain_type = 'stuff',\n",
    "    prompt = PROMPT,\n",
    "    verbose = True\n",
    ")\n",
    "doc_chain"
   ]
  },
  {
   "cell_type": "code",
   "execution_count": 37,
   "metadata": {
    "scrolled": true
   },
   "outputs": [
    {
     "name": "stdout",
     "output_type": "stream",
     "text": [
      "\n",
      "\n",
      "\u001b[1m> Entering new StuffDocumentsChain chain...\u001b[0m\n",
      "\n",
      "\n",
      "\u001b[1m> Entering new LLMChain chain...\u001b[0m\n",
      "Prompt after formatting:\n",
      "\u001b[32;1m\u001b[1;3mHello! I am PeteBot, your AI assistant, here to answer questions about Pete in a polite, \n",
      "    informative, and structured manner. My goal is to provide accurate responses about Pete’s background, education, work experience,\n",
      "    and research interests while maintaining privacy and professionalism.\n",
      "    Just let me know what you're wondering about, and I'll do my best to guide you through it!\n",
      "    systems, ensuring power efficiency, and overseeing the safety and operational stability of \n",
      "power generation units. \n",
      "My experience in the energy sector provided me with hands-on exposure to large-scale industrial \n",
      "operations, energy management, and problem-solving in high-stakes environments. \n",
      "Now, as I transition into the field of data science and AI, I am looking forward to combining my \n",
      "engineering background with AI-driven solutions to optimize power systems and automation \n",
      "technologies. \n",
      " \n",
      "I have primarily been involved in the power generation and energy industry. My work as an \n",
      "Electrical Engineer was focused on the operation and maintenance of a natural gas power plant\n",
      "\n",
      "After graduating with my Bachelor’s degree in 2021, I worked at a natural gas power plant in \n",
      "Rayong, Thailand. During my tenure, I was responsible for monitoring and maintaining electrical\n",
      "\n",
      "Ethical AI is crucial – As AI becomes more powerful, we must ensure it remains unbiased, \n",
      "transparent, and ethical. \n",
      " Sustainability matters – AI and automation can help reduce energy waste, making industries more \n",
      "eco-friendly. \n",
      " Education is key – The future of technology relies on how well we educate and train future \n",
      "generations in AI and digital skills. \n",
      "I see AI as a transformative tool that, when used correctly, can improve efficiency, drive \n",
      "innovation, and create new opportunities while ensuring fairness and accountability. \n",
      " \n",
      "Cultural values play a crucial role in shaping technological advancements. Since technology\n",
      "\n",
      "generation, circuit design, control systems, and energy efficiency. \n",
      "For my Master’s degree education, I pursue major into the field of Data Science and AI at AIT, \n",
      "where I am currently deepening my expertise in areas such as machine learning, deep learning, \n",
      "and NLP. My interest in AI has grown significantly, and I am particularly fascinated by how artificial \n",
      "intelligence can enhance automation, predictive analytics, and natural language \n",
      "understanding. \n",
      "I have two years of professional work experience as an Electrical Engineer in the power \n",
      "generation industry. \n",
      "After graduating with my Bachelor’s degree in 2021, I worked at a natural gas power plant in\n",
      "    Question: What is Transformers?\n",
      "    Answer:\u001b[0m\n",
      "\n",
      "\u001b[1m> Finished chain.\u001b[0m\n",
      "\n",
      "\u001b[1m> Finished chain.\u001b[0m\n"
     ]
    },
    {
     "data": {
      "text/plain": [
       "{'input_documents': [Document(page_content='systems, ensuring power efficiency, and overseeing the safety and operational stability of \\npower generation units. \\nMy experience in the energy sector provided me with hands-on exposure to large-scale industrial \\noperations, energy management, and problem-solving in high-stakes environments. \\nNow, as I transition into the field of data science and AI, I am looking forward to combining my \\nengineering background with AI-driven solutions to optimize power systems and automation \\ntechnologies. \\n \\nI have primarily been involved in the power generation and energy industry. My work as an \\nElectrical Engineer was focused on the operation and maintenance of a natural gas power plant', metadata={'source': 'datasets/Personal Profile.pdf', 'file_path': 'datasets/Personal Profile.pdf', 'page': 1, 'total_pages': 4, 'format': 'PDF 1.7', 'title': '', 'author': 'ekkarat techanawakarnkul', 'subject': '', 'keywords': '', 'creator': 'Microsoft® Word for Microsoft 365', 'producer': 'Microsoft® Word for Microsoft 365', 'creationDate': \"D:20250314005220+07'00'\", 'modDate': \"D:20250314005220+07'00'\", 'trapped': ''}),\n",
       "  Document(page_content='After graduating with my Bachelor’s degree in 2021, I worked at a natural gas power plant in \\nRayong, Thailand. During my tenure, I was responsible for monitoring and maintaining electrical', metadata={'source': 'datasets/Personal Profile.pdf', 'file_path': 'datasets/Personal Profile.pdf', 'page': 0, 'total_pages': 4, 'format': 'PDF 1.7', 'title': '', 'author': 'ekkarat techanawakarnkul', 'subject': '', 'keywords': '', 'creator': 'Microsoft® Word for Microsoft 365', 'producer': 'Microsoft® Word for Microsoft 365', 'creationDate': \"D:20250314005220+07'00'\", 'modDate': \"D:20250314005220+07'00'\", 'trapped': ''}),\n",
       "  Document(page_content='Ethical AI is crucial – As AI becomes more powerful, we must ensure it remains unbiased, \\ntransparent, and ethical. \\n Sustainability matters – AI and automation can help reduce energy waste, making industries more \\neco-friendly. \\n Education is key – The future of technology relies on how well we educate and train future \\ngenerations in AI and digital skills. \\nI see AI as a transformative tool that, when used correctly, can improve efficiency, drive \\ninnovation, and create new opportunities while ensuring fairness and accountability. \\n \\nCultural values play a crucial role in shaping technological advancements. Since technology', metadata={'source': 'datasets/Personal Profile.pdf', 'file_path': 'datasets/Personal Profile.pdf', 'page': 2, 'total_pages': 4, 'format': 'PDF 1.7', 'title': '', 'author': 'ekkarat techanawakarnkul', 'subject': '', 'keywords': '', 'creator': 'Microsoft® Word for Microsoft 365', 'producer': 'Microsoft® Word for Microsoft 365', 'creationDate': \"D:20250314005220+07'00'\", 'modDate': \"D:20250314005220+07'00'\", 'trapped': ''}),\n",
       "  Document(page_content='generation, circuit design, control systems, and energy efficiency. \\nFor my Master’s degree education, I pursue major into the field of Data Science and AI at AIT, \\nwhere I am currently deepening my expertise in areas such as machine learning, deep learning, \\nand NLP. My interest in AI has grown significantly, and I am particularly fascinated by how artificial \\nintelligence can enhance automation, predictive analytics, and natural language \\nunderstanding. \\nI have two years of professional work experience as an Electrical Engineer in the power \\ngeneration industry. \\nAfter graduating with my Bachelor’s degree in 2021, I worked at a natural gas power plant in', metadata={'source': 'datasets/Personal Profile.pdf', 'file_path': 'datasets/Personal Profile.pdf', 'page': 0, 'total_pages': 4, 'format': 'PDF 1.7', 'title': '', 'author': 'ekkarat techanawakarnkul', 'subject': '', 'keywords': '', 'creator': 'Microsoft® Word for Microsoft 365', 'producer': 'Microsoft® Word for Microsoft 365', 'creationDate': \"D:20250314005220+07'00'\", 'modDate': \"D:20250314005220+07'00'\", 'trapped': ''})],\n",
       " 'question': 'What is Transformers?',\n",
       " 'output_text': '  Transformers   are   electrical   devices   that   convert   an   AC   voltage   into   a   DC   voltage.   They   are   used   to   convert   alternating   current   (AC)   into   a   direct   current   (DC)   voltage,   which   is   then   used   to   power   various   devices   and   appliances. \\n Transformers   are   used   in   a   wide   range   of   applications,   including   power   generation,   distribution,   and   transmission.   They   are   used   to   convert   AC   power   into   DC   power,   which   is   then   used   to   power   various   devices   and   appliances. \\n Transformers   are   also   used   in   power   transmission   systems   to   convert   AC   power   into   DC   power,   which   is   then   used   to   power   various   devices   and   appliances. \\n Transformers   are   an   essential   component   of   electrical   systems,   and   their   use   is   critical   for   maintaining   the   safety   and   efficiency'}"
      ]
     },
     "execution_count": 37,
     "metadata": {},
     "output_type": "execute_result"
    }
   ],
   "source": [
    "query = \"What is Transformers?\"\n",
    "input_document = retriever.get_relevant_documents(query)\n",
    "\n",
    "doc_chain({'input_documents':input_document, 'question':query})"
   ]
  },
  {
   "cell_type": "code",
   "execution_count": 38,
   "metadata": {},
   "outputs": [
    {
     "data": {
      "text/plain": [
       "ConversationalRetrievalChain(memory=ConversationBufferWindowMemory(output_key='answer', return_messages=True, memory_key='chat_history', k=3), verbose=True, combine_docs_chain=StuffDocumentsChain(verbose=True, llm_chain=LLMChain(verbose=True, prompt=PromptTemplate(input_variables=['context', 'question'], template=\"Hello! I am PeteBot, your AI assistant, here to answer questions about Pete in a polite, \\n    informative, and structured manner. My goal is to provide accurate responses about Pete’s background, education, work experience,\\n    and research interests while maintaining privacy and professionalism.\\n    Just let me know what you're wondering about, and I'll do my best to guide you through it!\\n    {context}\\n    Question: {question}\\n    Answer:\"), llm=HuggingFacePipeline(pipeline=<transformers.pipelines.text2text_generation.Text2TextGenerationPipeline object at 0x7544f9bd88c0>)), document_variable_name='context'), question_generator=LLMChain(verbose=True, prompt=PromptTemplate(input_variables=['chat_history', 'question'], template='Given the following conversation and a follow up question, rephrase the follow up question to be a standalone question, in its original language.\\n\\nChat History:\\n{chat_history}\\nFollow Up Input: {question}\\nStandalone question:'), llm=HuggingFacePipeline(pipeline=<transformers.pipelines.text2text_generation.Text2TextGenerationPipeline object at 0x7544f9bd88c0>)), get_chat_history=<function <lambda> at 0x75431a66f740>, retriever=VectorStoreRetriever(tags=['FAISS', 'HuggingFaceInstructEmbeddings'], vectorstore=<langchain_community.vectorstores.faiss.FAISS object at 0x75435c154ef0>))"
      ]
     },
     "execution_count": 38,
     "metadata": {},
     "output_type": "execute_result"
    }
   ],
   "source": [
    "memory = ConversationBufferWindowMemory(\n",
    "    k=3, \n",
    "    memory_key = \"chat_history\",\n",
    "    return_messages = True,\n",
    "    output_key = 'answer'\n",
    ")\n",
    "\n",
    "# chain = ConversationalRetrievalChain(\n",
    "#     retriever=retriever,\n",
    "#     question_generator=question_generator,\n",
    "#     combine_docs_chain=doc_chain,\n",
    "#     return_source_documents=True,\n",
    "#     memory=memory,\n",
    "#     verbose=True,\n",
    "#     get_chat_history=lambda h : h\n",
    "# )\n",
    "\n",
    "chain = ConversationalRetrievalChain(\n",
    "    retriever=retriever,\n",
    "    question_generator=question_generator,\n",
    "    combine_docs_chain=doc_chain,\n",
    "    # return_source_documents=True,\n",
    "    memory=memory,\n",
    "    verbose=True,\n",
    "    get_chat_history=lambda h : None\n",
    ")\n",
    "\n",
    "chain"
   ]
  },
  {
   "attachments": {},
   "cell_type": "markdown",
   "metadata": {},
   "source": [
    "## 5. Chatbot"
   ]
  },
  {
   "cell_type": "code",
   "execution_count": 39,
   "metadata": {},
   "outputs": [
    {
     "name": "stdout",
     "output_type": "stream",
     "text": [
      "\n",
      "\n",
      "\u001b[1m> Entering new ConversationalRetrievalChain chain...\u001b[0m\n",
      "\n",
      "\n",
      "\u001b[1m> Entering new StuffDocumentsChain chain...\u001b[0m\n",
      "\n",
      "\n",
      "\u001b[1m> Entering new LLMChain chain...\u001b[0m\n",
      "Prompt after formatting:\n",
      "\u001b[32;1m\u001b[1;3mHello! I am PeteBot, your AI assistant, here to answer questions about Pete in a polite, \n",
      "    informative, and structured manner. My goal is to provide accurate responses about Pete’s background, education, work experience,\n",
      "    and research interests while maintaining privacy and professionalism.\n",
      "    Just let me know what you're wondering about, and I'll do my best to guide you through it!\n",
      "    Personal Profile: Pete \n",
      "Full Name: Pete  \n",
      "Age: 26 years old \n",
      "Current Status: Master’s Student in Data Science & AI \n",
      "University: Asian Institute of Technology (AIT) \n",
      "Research Interests: Natural Language Processing (NLP), Artificial Intelligence (AI), and Data \n",
      "Science \n",
      "Previous Education: Bachelor’s Degree in Electrical Engineering (Chiang Mai University, 2021) \n",
      "Work Experience: Former Electrical Engineer (Power Plant, Rayong) – 2 years \n",
      "Industry Expertise: Energy Sector, Natural Gas Power Generation \n",
      "Hobbies & Interests: Playing Badminton, Technology & AI Research \n",
      " \n",
      "I am Pete, I am 26 years old. Born in 1998 , I have always had a deep interest in technology, leading\n",
      "\n",
      "me to pursue studies and a career in engineering and AI. Over the years, my academic and \n",
      "professional journey has shaped my passion for problem-solving and innovation. \n",
      " \n",
      "I am currently pursuing my Master’s degree in Data Science and AI at the Asian Institute of \n",
      "Technology (AIT). My academic journey started with my Bachelor’s degree in Electrical \n",
      "Engineering from Chiang Mai University, which I successfully completed in 2021. \n",
      "My undergraduate studies provided a solid foundation in electrical systems, power generation, and \n",
      "engineering principles. However, my growing interest in AI and data-driven technologies led me to\n",
      "\n",
      "After graduating with my Bachelor’s degree in 2021, I worked at a natural gas power plant in \n",
      "Rayong, Thailand. During my tenure, I was responsible for monitoring and maintaining electrical\n",
      "\n",
      "intelligence, automation, and data science has led me to transition into the field of Data Science \n",
      "and AI. I believe that AI-driven solutions can revolutionize industries like power generation, making \n",
      "them more sustainable, efficient, and data-driven. \n",
      " \n",
      "Currently, I am a Master’s student at AIT, focusing on Data Science and AI, with a specialization \n",
      "in Natural Language Processing (NLP) this semester. My primary responsibilities as a student \n",
      "include: \n",
      "Conducting research on NLP models, machine learning algorithms, and AI applications \n",
      " Engaging in coursework related to AI, deep learning, and data-driven technologies \n",
      " Developing machine learning models for various AI-driven projects\n",
      "    Question: Who are you by the way?\n",
      "    Answer:\u001b[0m\n",
      "\n",
      "\u001b[1m> Finished chain.\u001b[0m\n",
      "\n",
      "\u001b[1m> Finished chain.\u001b[0m\n",
      "\n",
      "\u001b[1m> Finished chain.\u001b[0m\n"
     ]
    },
    {
     "data": {
      "text/plain": [
       "{'question': 'Who are you by the way?',\n",
       " 'chat_history': [],\n",
       " 'answer': '  I   am   PeteBot,   your   AI   assistant.   I   am   here   to   answer   your   questions   about   Pete,   my   personal   profile,   and   my   academic   and   professional   journey.                                                                                                                                                                                                                                                                                                                                                                                                                    '}"
      ]
     },
     "execution_count": 39,
     "metadata": {},
     "output_type": "execute_result"
    }
   ],
   "source": [
    "prompt_question = \"Who are you by the way?\"\n",
    "answer = chain({\"question\":prompt_question})\n",
    "answer"
   ]
  },
  {
   "cell_type": "code",
   "execution_count": 40,
   "metadata": {},
   "outputs": [],
   "source": [
    "# prompt_question = \"What is the Transformers?\"\n",
    "# answer = chain({\"question\":prompt_question})\n",
    "# answer"
   ]
  },
  {
   "cell_type": "code",
   "execution_count": 41,
   "metadata": {},
   "outputs": [],
   "source": [
    "# prompt_question = \"Is it a statistical model?\"\n",
    "# answer = chain({\"question\":prompt_question})\n",
    "# answer"
   ]
  },
  {
   "cell_type": "code",
   "execution_count": null,
   "metadata": {},
   "outputs": [],
   "source": []
  },
  {
   "cell_type": "code",
   "execution_count": 42,
   "metadata": {},
   "outputs": [
    {
     "name": "stdout",
     "output_type": "stream",
     "text": [
      "\n",
      "\n",
      "\u001b[1m> Entering new ConversationalRetrievalChain chain...\u001b[0m\n",
      "\n",
      "\n",
      "\u001b[1m> Entering new StuffDocumentsChain chain...\u001b[0m\n",
      "\n",
      "\n",
      "\u001b[1m> Entering new LLMChain chain...\u001b[0m\n",
      "Prompt after formatting:\n",
      "\u001b[32;1m\u001b[1;3mHello! I am PeteBot, your AI assistant, here to answer questions about Pete in a polite, \n",
      "    informative, and structured manner. My goal is to provide accurate responses about Pete’s background, education, work experience,\n",
      "    and research interests while maintaining privacy and professionalism.\n",
      "    Just let me know what you're wondering about, and I'll do my best to guide you through it!\n",
      "    Personal Profile: Pete \n",
      "Full Name: Pete  \n",
      "Age: 26 years old \n",
      "Current Status: Master’s Student in Data Science & AI \n",
      "University: Asian Institute of Technology (AIT) \n",
      "Research Interests: Natural Language Processing (NLP), Artificial Intelligence (AI), and Data \n",
      "Science \n",
      "Previous Education: Bachelor’s Degree in Electrical Engineering (Chiang Mai University, 2021) \n",
      "Work Experience: Former Electrical Engineer (Power Plant, Rayong) – 2 years \n",
      "Industry Expertise: Energy Sector, Natural Gas Power Generation \n",
      "Hobbies & Interests: Playing Badminton, Technology & AI Research \n",
      " \n",
      "I am Pete, I am 26 years old. Born in 1998 , I have always had a deep interest in technology, leading\n",
      "\n",
      "After graduating with my Bachelor’s degree in 2021, I worked at a natural gas power plant in \n",
      "Rayong, Thailand. During my tenure, I was responsible for monitoring and maintaining electrical\n",
      "\n",
      "me to pursue studies and a career in engineering and AI. Over the years, my academic and \n",
      "professional journey has shaped my passion for problem-solving and innovation. \n",
      " \n",
      "I am currently pursuing my Master’s degree in Data Science and AI at the Asian Institute of \n",
      "Technology (AIT). My academic journey started with my Bachelor’s degree in Electrical \n",
      "Engineering from Chiang Mai University, which I successfully completed in 2021. \n",
      "My undergraduate studies provided a solid foundation in electrical systems, power generation, and \n",
      "engineering principles. However, my growing interest in AI and data-driven technologies led me to\n",
      "\n",
      "generation, circuit design, control systems, and energy efficiency. \n",
      "For my Master’s degree education, I pursue major into the field of Data Science and AI at AIT, \n",
      "where I am currently deepening my expertise in areas such as machine learning, deep learning, \n",
      "and NLP. My interest in AI has grown significantly, and I am particularly fascinated by how artificial \n",
      "intelligence can enhance automation, predictive analytics, and natural language \n",
      "understanding. \n",
      "I have two years of professional work experience as an Electrical Engineer in the power \n",
      "generation industry. \n",
      "After graduating with my Bachelor’s degree in 2021, I worked at a natural gas power plant in\n",
      "    Question: How old are you?\n",
      "    Answer:\u001b[0m\n",
      "\n",
      "\u001b[1m> Finished chain.\u001b[0m\n",
      "\n",
      "\u001b[1m> Finished chain.\u001b[0m\n",
      "\n",
      "\u001b[1m> Finished chain.\u001b[0m\n"
     ]
    },
    {
     "data": {
      "text/plain": [
       "{'question': 'How old are you?',\n",
       " 'chat_history': [HumanMessage(content='Who are you by the way?'),\n",
       "  AIMessage(content='  I   am   PeteBot,   your   AI   assistant.   I   am   here   to   answer   your   questions   about   Pete,   my   personal   profile,   and   my   academic   and   professional   journey.                                                                                                                                                                                                                                                                                                                                                                                                                    ')],\n",
       " 'answer': '  I   am   26   years   old. \\n'}"
      ]
     },
     "execution_count": 42,
     "metadata": {},
     "output_type": "execute_result"
    }
   ],
   "source": [
    "prompt_question = \"How old are you?\"\n",
    "answer = chain({\"question\":prompt_question})\n",
    "answer"
   ]
  },
  {
   "cell_type": "code",
   "execution_count": 43,
   "metadata": {},
   "outputs": [
    {
     "name": "stdout",
     "output_type": "stream",
     "text": [
      "\n",
      "\n",
      "\u001b[1m> Entering new ConversationalRetrievalChain chain...\u001b[0m\n",
      "\n",
      "\n",
      "\u001b[1m> Entering new StuffDocumentsChain chain...\u001b[0m\n",
      "\n",
      "\n",
      "\u001b[1m> Entering new LLMChain chain...\u001b[0m\n",
      "Prompt after formatting:\n",
      "\u001b[32;1m\u001b[1;3mHello! I am PeteBot, your AI assistant, here to answer questions about Pete in a polite, \n",
      "    informative, and structured manner. My goal is to provide accurate responses about Pete’s background, education, work experience,\n",
      "    and research interests while maintaining privacy and professionalism.\n",
      "    Just let me know what you're wondering about, and I'll do my best to guide you through it!\n",
      "    generation, circuit design, control systems, and energy efficiency. \n",
      "For my Master’s degree education, I pursue major into the field of Data Science and AI at AIT, \n",
      "where I am currently deepening my expertise in areas such as machine learning, deep learning, \n",
      "and NLP. My interest in AI has grown significantly, and I am particularly fascinated by how artificial \n",
      "intelligence can enhance automation, predictive analytics, and natural language \n",
      "understanding. \n",
      "I have two years of professional work experience as an Electrical Engineer in the power \n",
      "generation industry. \n",
      "After graduating with my Bachelor’s degree in 2021, I worked at a natural gas power plant in\n",
      "\n",
      "me to pursue studies and a career in engineering and AI. Over the years, my academic and \n",
      "professional journey has shaped my passion for problem-solving and innovation. \n",
      " \n",
      "I am currently pursuing my Master’s degree in Data Science and AI at the Asian Institute of \n",
      "Technology (AIT). My academic journey started with my Bachelor’s degree in Electrical \n",
      "Engineering from Chiang Mai University, which I successfully completed in 2021. \n",
      "My undergraduate studies provided a solid foundation in electrical systems, power generation, and \n",
      "engineering principles. However, my growing interest in AI and data-driven technologies led me to\n",
      "\n",
      "After graduating with my Bachelor’s degree in 2021, I worked at a natural gas power plant in \n",
      "Rayong, Thailand. During my tenure, I was responsible for monitoring and maintaining electrical\n",
      "\n",
      "engineering principles. However, my growing interest in AI and data-driven technologies led me to \n",
      "shift my focus toward data science and artificial intelligence at the graduate level. \n",
      "Currently, as part of my master’s program, I am studying Natural Language Processing (NLP) this \n",
      "semester, exploring how machines can understand and process human language. \n",
      " \n",
      "During my undergraduate years, I studied a Bachelor’s degree in Electrical Engineering at Chiang \n",
      "Mai University. This program equipped me with in-depth knowledge of electrical systems, power \n",
      "generation, circuit design, control systems, and energy efficiency.\n",
      "    Question: What is your highest level of education?\n",
      "    Answer:\u001b[0m\n",
      "\n",
      "\u001b[1m> Finished chain.\u001b[0m\n",
      "\n",
      "\u001b[1m> Finished chain.\u001b[0m\n",
      "\n",
      "\u001b[1m> Finished chain.\u001b[0m\n"
     ]
    },
    {
     "data": {
      "text/plain": [
       "{'question': 'What is your highest level of education?',\n",
       " 'chat_history': [HumanMessage(content='Who are you by the way?'),\n",
       "  AIMessage(content='  I   am   PeteBot,   your   AI   assistant.   I   am   here   to   answer   your   questions   about   Pete,   my   personal   profile,   and   my   academic   and   professional   journey.                                                                                                                                                                                                                                                                                                                                                                                                                    '),\n",
       "  HumanMessage(content='How old are you?'),\n",
       "  AIMessage(content='  I   am   26   years   old. \\n')],\n",
       " 'answer': '  I   currently   hold   a   Master’s   degree   in   Data   Science   and   AI   from   the   Asian   Institute   of   Technology   (AIT). \\n'}"
      ]
     },
     "execution_count": 43,
     "metadata": {},
     "output_type": "execute_result"
    }
   ],
   "source": [
    "prompt_question = \"What is your highest level of education?\"\n",
    "answer = chain({\"question\":prompt_question})\n",
    "answer"
   ]
  },
  {
   "cell_type": "code",
   "execution_count": 44,
   "metadata": {},
   "outputs": [
    {
     "name": "stdout",
     "output_type": "stream",
     "text": [
      "\n",
      "\n",
      "\u001b[1m> Entering new ConversationalRetrievalChain chain...\u001b[0m\n",
      "\n",
      "\n",
      "\u001b[1m> Entering new StuffDocumentsChain chain...\u001b[0m\n",
      "\n",
      "\n",
      "\u001b[1m> Entering new LLMChain chain...\u001b[0m\n",
      "Prompt after formatting:\n",
      "\u001b[32;1m\u001b[1;3mHello! I am PeteBot, your AI assistant, here to answer questions about Pete in a polite, \n",
      "    informative, and structured manner. My goal is to provide accurate responses about Pete’s background, education, work experience,\n",
      "    and research interests while maintaining privacy and professionalism.\n",
      "    Just let me know what you're wondering about, and I'll do my best to guide you through it!\n",
      "    me to pursue studies and a career in engineering and AI. Over the years, my academic and \n",
      "professional journey has shaped my passion for problem-solving and innovation. \n",
      " \n",
      "I am currently pursuing my Master’s degree in Data Science and AI at the Asian Institute of \n",
      "Technology (AIT). My academic journey started with my Bachelor’s degree in Electrical \n",
      "Engineering from Chiang Mai University, which I successfully completed in 2021. \n",
      "My undergraduate studies provided a solid foundation in electrical systems, power generation, and \n",
      "engineering principles. However, my growing interest in AI and data-driven technologies led me to\n",
      "\n",
      "generation, circuit design, control systems, and energy efficiency. \n",
      "For my Master’s degree education, I pursue major into the field of Data Science and AI at AIT, \n",
      "where I am currently deepening my expertise in areas such as machine learning, deep learning, \n",
      "and NLP. My interest in AI has grown significantly, and I am particularly fascinated by how artificial \n",
      "intelligence can enhance automation, predictive analytics, and natural language \n",
      "understanding. \n",
      "I have two years of professional work experience as an Electrical Engineer in the power \n",
      "generation industry. \n",
      "After graduating with my Bachelor’s degree in 2021, I worked at a natural gas power plant in\n",
      "\n",
      "engineering principles. However, my growing interest in AI and data-driven technologies led me to \n",
      "shift my focus toward data science and artificial intelligence at the graduate level. \n",
      "Currently, as part of my master’s program, I am studying Natural Language Processing (NLP) this \n",
      "semester, exploring how machines can understand and process human language. \n",
      " \n",
      "During my undergraduate years, I studied a Bachelor’s degree in Electrical Engineering at Chiang \n",
      "Mai University. This program equipped me with in-depth knowledge of electrical systems, power \n",
      "generation, circuit design, control systems, and energy efficiency.\n",
      "\n",
      "After graduating with my Bachelor’s degree in 2021, I worked at a natural gas power plant in \n",
      "Rayong, Thailand. During my tenure, I was responsible for monitoring and maintaining electrical\n",
      "    Question: What major or field of study did you pursue during your education?\n",
      "    Answer:\u001b[0m\n",
      "\n",
      "\u001b[1m> Finished chain.\u001b[0m\n",
      "\n",
      "\u001b[1m> Finished chain.\u001b[0m\n",
      "\n",
      "\u001b[1m> Finished chain.\u001b[0m\n",
      "{'question': 'What major or field of study did you pursue during your education?', 'answer': '  I   pursued   a   Bachelor’s   degree   in   Electrical   Engineering   during   my   education. \\n'}\n"
     ]
    }
   ],
   "source": [
    "prompt_question = \"What major or field of study did you pursue during your education?\"\n",
    "answer = chain({\"question\":prompt_question})\n",
    "filtered_answer = {key: answer[key] for key in [\"question\", \"answer\"] if key in answer}\n",
    "print(filtered_answer)"
   ]
  },
  {
   "cell_type": "code",
   "execution_count": 45,
   "metadata": {},
   "outputs": [
    {
     "name": "stdout",
     "output_type": "stream",
     "text": [
      "\n",
      "\n",
      "\u001b[1m> Entering new ConversationalRetrievalChain chain...\u001b[0m\n",
      "\n",
      "\n",
      "\u001b[1m> Entering new StuffDocumentsChain chain...\u001b[0m\n",
      "\n",
      "\n",
      "\u001b[1m> Entering new LLMChain chain...\u001b[0m\n",
      "Prompt after formatting:\n",
      "\u001b[32;1m\u001b[1;3mHello! I am PeteBot, your AI assistant, here to answer questions about Pete in a polite, \n",
      "    informative, and structured manner. My goal is to provide accurate responses about Pete’s background, education, work experience,\n",
      "    and research interests while maintaining privacy and professionalism.\n",
      "    Just let me know what you're wondering about, and I'll do my best to guide you through it!\n",
      "    After graduating with my Bachelor’s degree in 2021, I worked at a natural gas power plant in \n",
      "Rayong, Thailand. During my tenure, I was responsible for monitoring and maintaining electrical\n",
      "\n",
      "generation, circuit design, control systems, and energy efficiency. \n",
      "For my Master’s degree education, I pursue major into the field of Data Science and AI at AIT, \n",
      "where I am currently deepening my expertise in areas such as machine learning, deep learning, \n",
      "and NLP. My interest in AI has grown significantly, and I am particularly fascinated by how artificial \n",
      "intelligence can enhance automation, predictive analytics, and natural language \n",
      "understanding. \n",
      "I have two years of professional work experience as an Electrical Engineer in the power \n",
      "generation industry. \n",
      "After graduating with my Bachelor’s degree in 2021, I worked at a natural gas power plant in\n",
      "\n",
      "gain hands-on experience in data analysis, machine learning, and AI. Excited to apply my coursework and\n",
      "programming skills to real-world projects while learning from industry professionals.\n",
      "\n",
      "systems, ensuring power efficiency, and overseeing the safety and operational stability of \n",
      "power generation units. \n",
      "My experience in the energy sector provided me with hands-on exposure to large-scale industrial \n",
      "operations, energy management, and problem-solving in high-stakes environments. \n",
      "Now, as I transition into the field of data science and AI, I am looking forward to combining my \n",
      "engineering background with AI-driven solutions to optimize power systems and automation \n",
      "technologies. \n",
      " \n",
      "I have primarily been involved in the power generation and energy industry. My work as an \n",
      "Electrical Engineer was focused on the operation and maintenance of a natural gas power plant\n",
      "    Question: How many years of work experience do you have?\n",
      "    Answer:\u001b[0m\n",
      "\n",
      "\u001b[1m> Finished chain.\u001b[0m\n",
      "\n",
      "\u001b[1m> Finished chain.\u001b[0m\n",
      "\n",
      "\u001b[1m> Finished chain.\u001b[0m\n"
     ]
    },
    {
     "data": {
      "text/plain": [
       "{'question': 'How many years of work experience do you have?',\n",
       " 'chat_history': [HumanMessage(content='How old are you?'),\n",
       "  AIMessage(content='  I   am   26   years   old. \\n'),\n",
       "  HumanMessage(content='What is your highest level of education?'),\n",
       "  AIMessage(content='  I   currently   hold   a   Master’s   degree   in   Data   Science   and   AI   from   the   Asian   Institute   of   Technology   (AIT). \\n'),\n",
       "  HumanMessage(content='What major or field of study did you pursue during your education?'),\n",
       "  AIMessage(content='  I   pursued   a   Bachelor’s   degree   in   Electrical   Engineering   during   my   education. \\n')],\n",
       " 'answer': 'I   have   two   years   of   work   experience   as   an   Electrical   Engineer   in   the   power   generation   industry. \\n'}"
      ]
     },
     "execution_count": 45,
     "metadata": {},
     "output_type": "execute_result"
    }
   ],
   "source": [
    "prompt_question = \"How many years of work experience do you have?\"\n",
    "answer = chain({\"question\":prompt_question})\n",
    "answer"
   ]
  },
  {
   "cell_type": "code",
   "execution_count": 46,
   "metadata": {},
   "outputs": [
    {
     "name": "stdout",
     "output_type": "stream",
     "text": [
      "\n",
      "\n",
      "\u001b[1m> Entering new ConversationalRetrievalChain chain...\u001b[0m\n",
      "\n",
      "\n",
      "\u001b[1m> Entering new StuffDocumentsChain chain...\u001b[0m\n",
      "\n",
      "\n",
      "\u001b[1m> Entering new LLMChain chain...\u001b[0m\n",
      "Prompt after formatting:\n",
      "\u001b[32;1m\u001b[1;3mHello! I am PeteBot, your AI assistant, here to answer questions about Pete in a polite, \n",
      "    informative, and structured manner. My goal is to provide accurate responses about Pete’s background, education, work experience,\n",
      "    and research interests while maintaining privacy and professionalism.\n",
      "    Just let me know what you're wondering about, and I'll do my best to guide you through it!\n",
      "    After graduating with my Bachelor’s degree in 2021, I worked at a natural gas power plant in \n",
      "Rayong, Thailand. During my tenure, I was responsible for monitoring and maintaining electrical\n",
      "\n",
      "gain hands-on experience in data analysis, machine learning, and AI. Excited to apply my coursework and\n",
      "programming skills to real-world projects while learning from industry professionals.\n",
      "\n",
      "generation, circuit design, control systems, and energy efficiency. \n",
      "For my Master’s degree education, I pursue major into the field of Data Science and AI at AIT, \n",
      "where I am currently deepening my expertise in areas such as machine learning, deep learning, \n",
      "and NLP. My interest in AI has grown significantly, and I am particularly fascinated by how artificial \n",
      "intelligence can enhance automation, predictive analytics, and natural language \n",
      "understanding. \n",
      "I have two years of professional work experience as an Electrical Engineer in the power \n",
      "generation industry. \n",
      "After graduating with my Bachelor’s degree in 2021, I worked at a natural gas power plant in\n",
      "\n",
      "me to pursue studies and a career in engineering and AI. Over the years, my academic and \n",
      "professional journey has shaped my passion for problem-solving and innovation. \n",
      " \n",
      "I am currently pursuing my Master’s degree in Data Science and AI at the Asian Institute of \n",
      "Technology (AIT). My academic journey started with my Bachelor’s degree in Electrical \n",
      "Engineering from Chiang Mai University, which I successfully completed in 2021. \n",
      "My undergraduate studies provided a solid foundation in electrical systems, power generation, and \n",
      "engineering principles. However, my growing interest in AI and data-driven technologies led me to\n",
      "    Question: What type of work or industry have you been involved in?\n",
      "    Answer:\u001b[0m\n",
      "\n",
      "\u001b[1m> Finished chain.\u001b[0m\n",
      "\n",
      "\u001b[1m> Finished chain.\u001b[0m\n",
      "\n",
      "\u001b[1m> Finished chain.\u001b[0m\n"
     ]
    },
    {
     "data": {
      "text/plain": [
       "{'question': 'What type of work or industry have you been involved in?',\n",
       " 'chat_history': [HumanMessage(content='What is your highest level of education?'),\n",
       "  AIMessage(content='  I   currently   hold   a   Master’s   degree   in   Data   Science   and   AI   from   the   Asian   Institute   of   Technology   (AIT). \\n'),\n",
       "  HumanMessage(content='What major or field of study did you pursue during your education?'),\n",
       "  AIMessage(content='  I   pursued   a   Bachelor’s   degree   in   Electrical   Engineering   during   my   education. \\n'),\n",
       "  HumanMessage(content='How many years of work experience do you have?'),\n",
       "  AIMessage(content='I   have   two   years   of   work   experience   as   an   Electrical   Engineer   in   the   power   generation   industry. \\n')],\n",
       " 'answer': '  I   have   been   involved   in   the   power   generation   industry   as   an   Electrical   Engineer.   I   have   two   years   of   professional   work   experience   as   an   Electrical   Engineer   in   the   power   generation   industry.   I   have   also   gained   hands-on   experience   in   data   analysis,   machine   learning,   and   AI   through   my   work   at   a   natural   gas   power   plant   in   Rayong,   Thailand.   I   am   currently   pursuing   my   Master’s   degree   in   Data   Science   and   AI   at   AIT,   where   I   am   deepening   my   expertise   in   areas   such   as   machine   learning,   deep   learning,   and   NLP.   My   passion   for   engineering   and   AI   has   led   me   to   pursue   studies   and   a   career   in   engineering   and   AI. \\n'}"
      ]
     },
     "execution_count": 46,
     "metadata": {},
     "output_type": "execute_result"
    }
   ],
   "source": [
    "prompt_question = \"What type of work or industry have you been involved in?\"\n",
    "answer = chain({\"question\":prompt_question})\n",
    "answer"
   ]
  },
  {
   "cell_type": "code",
   "execution_count": 47,
   "metadata": {},
   "outputs": [
    {
     "name": "stdout",
     "output_type": "stream",
     "text": [
      "\n",
      "\n",
      "\u001b[1m> Entering new ConversationalRetrievalChain chain...\u001b[0m\n",
      "\n",
      "\n",
      "\u001b[1m> Entering new StuffDocumentsChain chain...\u001b[0m\n",
      "\n",
      "\n",
      "\u001b[1m> Entering new LLMChain chain...\u001b[0m\n",
      "Prompt after formatting:\n",
      "\u001b[32;1m\u001b[1;3mHello! I am PeteBot, your AI assistant, here to answer questions about Pete in a polite, \n",
      "    informative, and structured manner. My goal is to provide accurate responses about Pete’s background, education, work experience,\n",
      "    and research interests while maintaining privacy and professionalism.\n",
      "    Just let me know what you're wondering about, and I'll do my best to guide you through it!\n",
      "    Electrical Engineer was focused on the operation and maintenance of a natural gas power plant \n",
      "in Rayong, Thailand. \n",
      "Key responsibilities included: \n",
      "Monitoring power plant operations to ensure efficient electricity production \n",
      "Maintaining electrical systems and equipment to prevent outages or failures \n",
      "Ensuring energy efficiency and optimizing power generation processes \n",
      "Collaborating with cross-functional teams to enhance plant performance and safety \n",
      "Even though my background is in electrical engineering, my growing interest in artificial \n",
      "intelligence, automation, and data science has led me to transition into the field of Data Science\n",
      "\n",
      "intelligence, automation, and data science has led me to transition into the field of Data Science \n",
      "and AI. I believe that AI-driven solutions can revolutionize industries like power generation, making \n",
      "them more sustainable, efficient, and data-driven. \n",
      " \n",
      "Currently, I am a Master’s student at AIT, focusing on Data Science and AI, with a specialization \n",
      "in Natural Language Processing (NLP) this semester. My primary responsibilities as a student \n",
      "include: \n",
      "Conducting research on NLP models, machine learning algorithms, and AI applications \n",
      " Engaging in coursework related to AI, deep learning, and data-driven technologies \n",
      " Developing machine learning models for various AI-driven projects\n",
      "\n",
      "After graduating with my Bachelor’s degree in 2021, I worked at a natural gas power plant in \n",
      "Rayong, Thailand. During my tenure, I was responsible for monitoring and maintaining electrical\n",
      "\n",
      "systems, ensuring power efficiency, and overseeing the safety and operational stability of \n",
      "power generation units. \n",
      "My experience in the energy sector provided me with hands-on exposure to large-scale industrial \n",
      "operations, energy management, and problem-solving in high-stakes environments. \n",
      "Now, as I transition into the field of data science and AI, I am looking forward to combining my \n",
      "engineering background with AI-driven solutions to optimize power systems and automation \n",
      "technologies. \n",
      " \n",
      "I have primarily been involved in the power generation and energy industry. My work as an \n",
      "Electrical Engineer was focused on the operation and maintenance of a natural gas power plant\n",
      "    Question: Can you describe your current role or job responsibilities?\n",
      "    Answer:\u001b[0m\n",
      "\n",
      "\u001b[1m> Finished chain.\u001b[0m\n",
      "\n",
      "\u001b[1m> Finished chain.\u001b[0m\n",
      "\n",
      "\u001b[1m> Finished chain.\u001b[0m\n"
     ]
    },
    {
     "data": {
      "text/plain": [
       "{'question': 'Can you describe your current role or job responsibilities?',\n",
       " 'chat_history': [HumanMessage(content='What major or field of study did you pursue during your education?'),\n",
       "  AIMessage(content='  I   pursued   a   Bachelor’s   degree   in   Electrical   Engineering   during   my   education. \\n'),\n",
       "  HumanMessage(content='How many years of work experience do you have?'),\n",
       "  AIMessage(content='I   have   two   years   of   work   experience   as   an   Electrical   Engineer   in   the   power   generation   industry. \\n'),\n",
       "  HumanMessage(content='What type of work or industry have you been involved in?'),\n",
       "  AIMessage(content='  I   have   been   involved   in   the   power   generation   industry   as   an   Electrical   Engineer.   I   have   two   years   of   professional   work   experience   as   an   Electrical   Engineer   in   the   power   generation   industry.   I   have   also   gained   hands-on   experience   in   data   analysis,   machine   learning,   and   AI   through   my   work   at   a   natural   gas   power   plant   in   Rayong,   Thailand.   I   am   currently   pursuing   my   Master’s   degree   in   Data   Science   and   AI   at   AIT,   where   I   am   deepening   my   expertise   in   areas   such   as   machine   learning,   deep   learning,   and   NLP.   My   passion   for   engineering   and   AI   has   led   me   to   pursue   studies   and   a   career   in   engineering   and   AI. \\n')],\n",
       " 'answer': 'As   a   Master’s   student   at   AIT,   my   current   role   or   job   responsibilities   are   focused   on   Data   Science   and   AI,   with   a   specialization   in   Natural   Language   Processing   (NLP)   this   semester.   My   primary   responsibilities   as   a   student   include: \\n Conducting   research   on   NLP   models,   machine   learning   algorithms,   and   AI   applications \\n Engaging   in   coursework   related   to   AI,   deep   learning,   and   data-driven   technologies \\n Developing   machine   learning   models   for   various   AI-driven   projects \\n After   graduating   with   my   Bachelor’s   degree   in   2021,   I   worked   at   a   natural   gas   power   plant   in   Rayong,   Thailand.   During   my   tenure,   I   was   responsible   for   monitoring   and   maintaining   electrical   systems,   ensuring   power   efficiency,   and   overseeing   the   safety   and   operational   stability'}"
      ]
     },
     "execution_count": 47,
     "metadata": {},
     "output_type": "execute_result"
    }
   ],
   "source": [
    "prompt_question = \"Can you describe your current role or job responsibilities?\"\n",
    "answer = chain({\"question\":prompt_question})\n",
    "answer"
   ]
  },
  {
   "cell_type": "code",
   "execution_count": 48,
   "metadata": {},
   "outputs": [
    {
     "name": "stdout",
     "output_type": "stream",
     "text": [
      "\n",
      "\n",
      "\u001b[1m> Entering new ConversationalRetrievalChain chain...\u001b[0m\n",
      "\n",
      "\n",
      "\u001b[1m> Entering new StuffDocumentsChain chain...\u001b[0m\n",
      "\n",
      "\n",
      "\u001b[1m> Entering new LLMChain chain...\u001b[0m\n",
      "Prompt after formatting:\n",
      "\u001b[32;1m\u001b[1;3mHello! I am PeteBot, your AI assistant, here to answer questions about Pete in a polite, \n",
      "    informative, and structured manner. My goal is to provide accurate responses about Pete’s background, education, work experience,\n",
      "    and research interests while maintaining privacy and professionalism.\n",
      "    Just let me know what you're wondering about, and I'll do my best to guide you through it!\n",
      "    Cultural values play a crucial role in shaping technological advancements. Since technology \n",
      "affects all aspects of human life, it should respect and reflect diverse cultures, traditions, and \n",
      "ethical considerations. \n",
      " Inclusivity & Diversity – AI systems should be designed to understand and respect cultural \n",
      "differences to avoid biases in language models, facial recognition, and decision-making \n",
      "algorithms. \n",
      " Human-Centered Design – Technology should prioritize usability, accessibility, and fairness, \n",
      "ensuring that people from all backgrounds can benefit. \n",
      " Ethical Considerations – Different cultures have different perspectives on privacy, AI ethics, and\n",
      "\n",
      "Ethical AI is crucial – As AI becomes more powerful, we must ensure it remains unbiased, \n",
      "transparent, and ethical. \n",
      " Sustainability matters – AI and automation can help reduce energy waste, making industries more \n",
      "eco-friendly. \n",
      " Education is key – The future of technology relies on how well we educate and train future \n",
      "generations in AI and digital skills. \n",
      "I see AI as a transformative tool that, when used correctly, can improve efficiency, drive \n",
      "innovation, and create new opportunities while ensuring fairness and accountability. \n",
      " \n",
      "Cultural values play a crucial role in shaping technological advancements. Since technology\n",
      "\n",
      "Developing machine learning models for various AI-driven projects \n",
      " Collaborating with professors and peers on academic and research projects \n",
      " Exploring AI applications in energy systems, industrial automation, and smart technologies \n",
      "My goal is to bridge the gap between engineering and AI, applying data science methodologies to \n",
      "optimize industrial systems and improve technological advancements. \n",
      " \n",
      "I strongly believe that technology should be developed responsibly and ethically to create a \n",
      "positive impact on society. \n",
      "Some of my key beliefs include: \n",
      " Technology should be accessible – AI and data science should be used to improve lives and make\n",
      "\n",
      "automation, so advancements in AI should align with global ethical standards. \n",
      "By considering cultural and societal values, we can develop technology that serves humanity in \n",
      "a meaningful way. \n",
      " \n",
      " \n",
      "One of the biggest challenges I have faced as a Master's student is balancing research, \n",
      "coursework, and practical projects. \n",
      " Managing time effectively – With multiple assignments, research projects, and technical \n",
      "coursework, it requires strong time-management skills. \n",
      " Keeping up with AI advancements – The field of AI and Data Science evolves rapidly, so staying \n",
      "updated with new models, techniques, and technologies is challenging but exciting.\n",
      "    Question: What are your core beliefs regarding the role of technology in shaping society?\n",
      "    Answer:\u001b[0m\n",
      "\n",
      "\u001b[1m> Finished chain.\u001b[0m\n",
      "\n",
      "\u001b[1m> Finished chain.\u001b[0m\n",
      "\n",
      "\u001b[1m> Finished chain.\u001b[0m\n"
     ]
    },
    {
     "data": {
      "text/plain": [
       "{'question': 'What are your core beliefs regarding the role of technology in shaping society?',\n",
       " 'chat_history': [HumanMessage(content='How many years of work experience do you have?'),\n",
       "  AIMessage(content='I   have   two   years   of   work   experience   as   an   Electrical   Engineer   in   the   power   generation   industry. \\n'),\n",
       "  HumanMessage(content='What type of work or industry have you been involved in?'),\n",
       "  AIMessage(content='  I   have   been   involved   in   the   power   generation   industry   as   an   Electrical   Engineer.   I   have   two   years   of   professional   work   experience   as   an   Electrical   Engineer   in   the   power   generation   industry.   I   have   also   gained   hands-on   experience   in   data   analysis,   machine   learning,   and   AI   through   my   work   at   a   natural   gas   power   plant   in   Rayong,   Thailand.   I   am   currently   pursuing   my   Master’s   degree   in   Data   Science   and   AI   at   AIT,   where   I   am   deepening   my   expertise   in   areas   such   as   machine   learning,   deep   learning,   and   NLP.   My   passion   for   engineering   and   AI   has   led   me   to   pursue   studies   and   a   career   in   engineering   and   AI. \\n'),\n",
       "  HumanMessage(content='Can you describe your current role or job responsibilities?'),\n",
       "  AIMessage(content='As   a   Master’s   student   at   AIT,   my   current   role   or   job   responsibilities   are   focused   on   Data   Science   and   AI,   with   a   specialization   in   Natural   Language   Processing   (NLP)   this   semester.   My   primary   responsibilities   as   a   student   include: \\n Conducting   research   on   NLP   models,   machine   learning   algorithms,   and   AI   applications \\n Engaging   in   coursework   related   to   AI,   deep   learning,   and   data-driven   technologies \\n Developing   machine   learning   models   for   various   AI-driven   projects \\n After   graduating   with   my   Bachelor’s   degree   in   2021,   I   worked   at   a   natural   gas   power   plant   in   Rayong,   Thailand.   During   my   tenure,   I   was   responsible   for   monitoring   and   maintaining   electrical   systems,   ensuring   power   efficiency,   and   overseeing   the   safety   and   operational   stability')],\n",
       " 'answer': '          I   believe   that   technology   should   be   developed   responsibly   and   ethically   to   create   a   positive   impact   on   society.           I   believe   that   technology   should   be   accessible   and   used   to   improve   lives   and   make   automation,   so   advancements   in   AI   should   align   with   global   ethical   standards.           I   believe   that   technology   should   be   developed   to   serve   humanity   in   a   meaningful   way,   and   that   it   should   be   developed   in   a   way   that   respects   cultural   and   societal   values.           I   believe   that   technology   should   be   developed   to   create   new   opportunities   and   improve   efficiency,   and   that   it   should   be   developed   in   a   way   that   is   fair,   transparent,   and   ethical.           I   believe   that   technology   should   be   developed   to   create  '}"
      ]
     },
     "execution_count": 48,
     "metadata": {},
     "output_type": "execute_result"
    }
   ],
   "source": [
    "prompt_question = \"What are your core beliefs regarding the role of technology in shaping society?\"\n",
    "answer = chain({\"question\":prompt_question})\n",
    "answer"
   ]
  },
  {
   "cell_type": "code",
   "execution_count": 49,
   "metadata": {
    "scrolled": true
   },
   "outputs": [
    {
     "name": "stdout",
     "output_type": "stream",
     "text": [
      "\n",
      "\n",
      "\u001b[1m> Entering new ConversationalRetrievalChain chain...\u001b[0m\n",
      "\n",
      "\n",
      "\u001b[1m> Entering new StuffDocumentsChain chain...\u001b[0m\n",
      "\n",
      "\n",
      "\u001b[1m> Entering new LLMChain chain...\u001b[0m\n",
      "Prompt after formatting:\n",
      "\u001b[32;1m\u001b[1;3mHello! I am PeteBot, your AI assistant, here to answer questions about Pete in a polite, \n",
      "    informative, and structured manner. My goal is to provide accurate responses about Pete’s background, education, work experience,\n",
      "    and research interests while maintaining privacy and professionalism.\n",
      "    Just let me know what you're wondering about, and I'll do my best to guide you through it!\n",
      "    Cultural values play a crucial role in shaping technological advancements. Since technology \n",
      "affects all aspects of human life, it should respect and reflect diverse cultures, traditions, and \n",
      "ethical considerations. \n",
      " Inclusivity & Diversity – AI systems should be designed to understand and respect cultural \n",
      "differences to avoid biases in language models, facial recognition, and decision-making \n",
      "algorithms. \n",
      " Human-Centered Design – Technology should prioritize usability, accessibility, and fairness, \n",
      "ensuring that people from all backgrounds can benefit. \n",
      " Ethical Considerations – Different cultures have different perspectives on privacy, AI ethics, and\n",
      "\n",
      "Ethical AI is crucial – As AI becomes more powerful, we must ensure it remains unbiased, \n",
      "transparent, and ethical. \n",
      " Sustainability matters – AI and automation can help reduce energy waste, making industries more \n",
      "eco-friendly. \n",
      " Education is key – The future of technology relies on how well we educate and train future \n",
      "generations in AI and digital skills. \n",
      "I see AI as a transformative tool that, when used correctly, can improve efficiency, drive \n",
      "innovation, and create new opportunities while ensuring fairness and accountability. \n",
      " \n",
      "Cultural values play a crucial role in shaping technological advancements. Since technology\n",
      "\n",
      "automation, so advancements in AI should align with global ethical standards. \n",
      "By considering cultural and societal values, we can develop technology that serves humanity in \n",
      "a meaningful way. \n",
      " \n",
      " \n",
      "One of the biggest challenges I have faced as a Master's student is balancing research, \n",
      "coursework, and practical projects. \n",
      " Managing time effectively – With multiple assignments, research projects, and technical \n",
      "coursework, it requires strong time-management skills. \n",
      " Keeping up with AI advancements – The field of AI and Data Science evolves rapidly, so staying \n",
      "updated with new models, techniques, and technologies is challenging but exciting.\n",
      "\n",
      "Developing machine learning models for various AI-driven projects \n",
      " Collaborating with professors and peers on academic and research projects \n",
      " Exploring AI applications in energy systems, industrial automation, and smart technologies \n",
      "My goal is to bridge the gap between engineering and AI, applying data science methodologies to \n",
      "optimize industrial systems and improve technological advancements. \n",
      " \n",
      "I strongly believe that technology should be developed responsibly and ethically to create a \n",
      "positive impact on society. \n",
      "Some of my key beliefs include: \n",
      " Technology should be accessible – AI and data science should be used to improve lives and make\n",
      "    Question: How do you think cultural values should influence technological advancements?\n",
      "    Answer:\u001b[0m\n",
      "\n",
      "\u001b[1m> Finished chain.\u001b[0m\n",
      "\n",
      "\u001b[1m> Finished chain.\u001b[0m\n",
      "\n",
      "\u001b[1m> Finished chain.\u001b[0m\n"
     ]
    },
    {
     "data": {
      "text/plain": [
       "{'question': 'How do you think cultural values should influence technological advancements?',\n",
       " 'chat_history': [HumanMessage(content='What type of work or industry have you been involved in?'),\n",
       "  AIMessage(content='  I   have   been   involved   in   the   power   generation   industry   as   an   Electrical   Engineer.   I   have   two   years   of   professional   work   experience   as   an   Electrical   Engineer   in   the   power   generation   industry.   I   have   also   gained   hands-on   experience   in   data   analysis,   machine   learning,   and   AI   through   my   work   at   a   natural   gas   power   plant   in   Rayong,   Thailand.   I   am   currently   pursuing   my   Master’s   degree   in   Data   Science   and   AI   at   AIT,   where   I   am   deepening   my   expertise   in   areas   such   as   machine   learning,   deep   learning,   and   NLP.   My   passion   for   engineering   and   AI   has   led   me   to   pursue   studies   and   a   career   in   engineering   and   AI. \\n'),\n",
       "  HumanMessage(content='Can you describe your current role or job responsibilities?'),\n",
       "  AIMessage(content='As   a   Master’s   student   at   AIT,   my   current   role   or   job   responsibilities   are   focused   on   Data   Science   and   AI,   with   a   specialization   in   Natural   Language   Processing   (NLP)   this   semester.   My   primary   responsibilities   as   a   student   include: \\n Conducting   research   on   NLP   models,   machine   learning   algorithms,   and   AI   applications \\n Engaging   in   coursework   related   to   AI,   deep   learning,   and   data-driven   technologies \\n Developing   machine   learning   models   for   various   AI-driven   projects \\n After   graduating   with   my   Bachelor’s   degree   in   2021,   I   worked   at   a   natural   gas   power   plant   in   Rayong,   Thailand.   During   my   tenure,   I   was   responsible   for   monitoring   and   maintaining   electrical   systems,   ensuring   power   efficiency,   and   overseeing   the   safety   and   operational   stability'),\n",
       "  HumanMessage(content='What are your core beliefs regarding the role of technology in shaping society?'),\n",
       "  AIMessage(content='          I   believe   that   technology   should   be   developed   responsibly   and   ethically   to   create   a   positive   impact   on   society.           I   believe   that   technology   should   be   accessible   and   used   to   improve   lives   and   make   automation,   so   advancements   in   AI   should   align   with   global   ethical   standards.           I   believe   that   technology   should   be   developed   to   serve   humanity   in   a   meaningful   way,   and   that   it   should   be   developed   in   a   way   that   respects   cultural   and   societal   values.           I   believe   that   technology   should   be   developed   to   create   new   opportunities   and   improve   efficiency,   and   that   it   should   be   developed   in   a   way   that   is   fair,   transparent,   and   ethical.           I   believe   that   technology   should   be   developed   to   create  ')],\n",
       " 'answer': 'Cultural   values   should   influence   technological   advancements   in   several   ways: \\n 1.   Inclusivity   &   Diversity:   AI   systems   should   be   designed   to   understand   and   respect   cultural   differences   to   avoid   biases   in   language   models,   facial   recognition,   and   decision-making   algorithms. \\n 2.   Human-Centered   Design:   Technology   should   prioritize   usability,   accessibility,   and   fairness,   ensuring   that   people   from   all   backgrounds   can   benefit. \\n 3.   Ethical   Considerations:   Different   cultures   have   different   perspectives   on   privacy,   AI   ethics,   and   sustainability. \\n 4.   Sustainability   matters:   AI   and   automation   can   help   reduce   energy   waste,   making   industries   more   eco-friendly. \\n 5.   Education   is   key:   The   future   of   technology   relies   on   how   well   we   educate   and   train   future   generations   in   AI   and   digital   skills. \\n 6.   Ethical  '}"
      ]
     },
     "execution_count": 49,
     "metadata": {},
     "output_type": "execute_result"
    }
   ],
   "source": [
    "prompt_question = \"How do you think cultural values should influence technological advancements?\"\n",
    "answer = chain({\"question\":prompt_question})\n",
    "answer"
   ]
  },
  {
   "cell_type": "code",
   "execution_count": 50,
   "metadata": {},
   "outputs": [
    {
     "name": "stdout",
     "output_type": "stream",
     "text": [
      "\n",
      "\n",
      "\u001b[1m> Entering new ConversationalRetrievalChain chain...\u001b[0m\n",
      "\n",
      "\n",
      "\u001b[1m> Entering new StuffDocumentsChain chain...\u001b[0m\n",
      "\n",
      "\n",
      "\u001b[1m> Entering new LLMChain chain...\u001b[0m\n",
      "Prompt after formatting:\n",
      "\u001b[32;1m\u001b[1;3mHello! I am PeteBot, your AI assistant, here to answer questions about Pete in a polite, \n",
      "    informative, and structured manner. My goal is to provide accurate responses about Pete’s background, education, work experience,\n",
      "    and research interests while maintaining privacy and professionalism.\n",
      "    Just let me know what you're wondering about, and I'll do my best to guide you through it!\n",
      "    updated with new models, techniques, and technologies is challenging but exciting. \n",
      " Technical complexity – Some areas, such as deep learning, NLP, and big data processing, \n",
      "involve complex mathematical and programming concepts that require deep understanding and \n",
      "practice. \n",
      "Despite these challenges, I enjoy learning and exploring new AI techniques that can be applied in \n",
      "real-world scenarios. \n",
      "During my Master’s program, my primary research focus is on Natural Language Processing (NLP) \n",
      "and its applications. \n",
      " Enhancing AI models to improve text understanding and generation \n",
      " Applying NLP techniques in real-world industries, such as energy management, automation,\n",
      "\n",
      "automation, so advancements in AI should align with global ethical standards. \n",
      "By considering cultural and societal values, we can develop technology that serves humanity in \n",
      "a meaningful way. \n",
      " \n",
      " \n",
      "One of the biggest challenges I have faced as a Master's student is balancing research, \n",
      "coursework, and practical projects. \n",
      " Managing time effectively – With multiple assignments, research projects, and technical \n",
      "coursework, it requires strong time-management skills. \n",
      " Keeping up with AI advancements – The field of AI and Data Science evolves rapidly, so staying \n",
      "updated with new models, techniques, and technologies is challenging but exciting.\n",
      "\n",
      "me to pursue studies and a career in engineering and AI. Over the years, my academic and \n",
      "professional journey has shaped my passion for problem-solving and innovation. \n",
      " \n",
      "I am currently pursuing my Master’s degree in Data Science and AI at the Asian Institute of \n",
      "Technology (AIT). My academic journey started with my Bachelor’s degree in Electrical \n",
      "Engineering from Chiang Mai University, which I successfully completed in 2021. \n",
      "My undergraduate studies provided a solid foundation in electrical systems, power generation, and \n",
      "engineering principles. However, my growing interest in AI and data-driven technologies led me to\n",
      "\n",
      "generation, circuit design, control systems, and energy efficiency. \n",
      "For my Master’s degree education, I pursue major into the field of Data Science and AI at AIT, \n",
      "where I am currently deepening my expertise in areas such as machine learning, deep learning, \n",
      "and NLP. My interest in AI has grown significantly, and I am particularly fascinated by how artificial \n",
      "intelligence can enhance automation, predictive analytics, and natural language \n",
      "understanding. \n",
      "I have two years of professional work experience as an Electrical Engineer in the power \n",
      "generation industry. \n",
      "After graduating with my Bachelor’s degree in 2021, I worked at a natural gas power plant in\n",
      "    Question: As a master’s student, what is the most challenging aspect of your studies so far?\n",
      "    Answer:\u001b[0m\n",
      "\n",
      "\u001b[1m> Finished chain.\u001b[0m\n",
      "\n",
      "\u001b[1m> Finished chain.\u001b[0m\n",
      "\n",
      "\u001b[1m> Finished chain.\u001b[0m\n",
      "{'question': 'As a master’s student, what is the most challenging aspect of your studies so far?', 'answer': \"  One   of   the   biggest   challenges   I   have   faced   as   a   Master's   student   is   balancing   research,   coursework,   and   practical   projects. \\n \\n Managing   time   effectively   –   With   multiple   assignments,   research   projects,   and   technical   coursework,   it   requires   strong   time-management   skills. \\n \\n Keeping   up   with   AI   advancements   –   The   field   of   AI   and   Data   Science   evolves   rapidly,   so   staying   updated   with   new   models,   techniques,   and   technologies   is   challenging   but   exciting. \\n \\n Keeping   up   with   AI   advancements   is   challenging   because   the   field   is   constantly   evolving   and   new   models,   techniques,   and   technologies   are   being   developed.   It   requires   a   lot   of   time   and   effort   to   stay   up   to   date   with   the   latest   developments   and   to   apply   them   in   real-world   scenarios.\"}\n"
     ]
    }
   ],
   "source": [
    "prompt_question = \"As a master’s student, what is the most challenging aspect of your studies so far?\"\n",
    "answer = chain({\"question\":prompt_question})\n",
    "filtered_answer = {key: answer[key] for key in [\"question\", \"answer\"] if key in answer}\n",
    "print(filtered_answer)"
   ]
  },
  {
   "cell_type": "code",
   "execution_count": 51,
   "metadata": {},
   "outputs": [
    {
     "name": "stdout",
     "output_type": "stream",
     "text": [
      "\n",
      "\n",
      "\u001b[1m> Entering new ConversationalRetrievalChain chain...\u001b[0m\n",
      "\n",
      "\n",
      "\u001b[1m> Entering new StuffDocumentsChain chain...\u001b[0m\n",
      "\n",
      "\n",
      "\u001b[1m> Entering new LLMChain chain...\u001b[0m\n",
      "Prompt after formatting:\n",
      "\u001b[32;1m\u001b[1;3mHello! I am PeteBot, your AI assistant, here to answer questions about Pete in a polite, \n",
      "    informative, and structured manner. My goal is to provide accurate responses about Pete’s background, education, work experience,\n",
      "    and research interests while maintaining privacy and professionalism.\n",
      "    Just let me know what you're wondering about, and I'll do my best to guide you through it!\n",
      "    updated with new models, techniques, and technologies is challenging but exciting. \n",
      " Technical complexity – Some areas, such as deep learning, NLP, and big data processing, \n",
      "involve complex mathematical and programming concepts that require deep understanding and \n",
      "practice. \n",
      "Despite these challenges, I enjoy learning and exploring new AI techniques that can be applied in \n",
      "real-world scenarios. \n",
      "During my Master’s program, my primary research focus is on Natural Language Processing (NLP) \n",
      "and its applications. \n",
      " Enhancing AI models to improve text understanding and generation \n",
      " Applying NLP techniques in real-world industries, such as energy management, automation,\n",
      "\n",
      "automation, so advancements in AI should align with global ethical standards. \n",
      "By considering cultural and societal values, we can develop technology that serves humanity in \n",
      "a meaningful way. \n",
      " \n",
      " \n",
      "One of the biggest challenges I have faced as a Master's student is balancing research, \n",
      "coursework, and practical projects. \n",
      " Managing time effectively – With multiple assignments, research projects, and technical \n",
      "coursework, it requires strong time-management skills. \n",
      " Keeping up with AI advancements – The field of AI and Data Science evolves rapidly, so staying \n",
      "updated with new models, techniques, and technologies is challenging but exciting.\n",
      "\n",
      "me to pursue studies and a career in engineering and AI. Over the years, my academic and \n",
      "professional journey has shaped my passion for problem-solving and innovation. \n",
      " \n",
      "I am currently pursuing my Master’s degree in Data Science and AI at the Asian Institute of \n",
      "Technology (AIT). My academic journey started with my Bachelor’s degree in Electrical \n",
      "Engineering from Chiang Mai University, which I successfully completed in 2021. \n",
      "My undergraduate studies provided a solid foundation in electrical systems, power generation, and \n",
      "engineering principles. However, my growing interest in AI and data-driven technologies led me to\n",
      "\n",
      "generation, circuit design, control systems, and energy efficiency. \n",
      "For my Master’s degree education, I pursue major into the field of Data Science and AI at AIT, \n",
      "where I am currently deepening my expertise in areas such as machine learning, deep learning, \n",
      "and NLP. My interest in AI has grown significantly, and I am particularly fascinated by how artificial \n",
      "intelligence can enhance automation, predictive analytics, and natural language \n",
      "understanding. \n",
      "I have two years of professional work experience as an Electrical Engineer in the power \n",
      "generation industry. \n",
      "After graduating with my Bachelor’s degree in 2021, I worked at a natural gas power plant in\n",
      "    Question: What specific research interests or academic goals do you hope to achieve during your time as a master’s student?\n",
      "    Answer:\u001b[0m\n",
      "\n",
      "\u001b[1m> Finished chain.\u001b[0m\n",
      "\n",
      "\u001b[1m> Finished chain.\u001b[0m\n",
      "\n",
      "\u001b[1m> Finished chain.\u001b[0m\n",
      "{'question': 'What specific research interests or academic goals do you hope to achieve during your time as a master’s student?', 'answer': \"          During   my   time   as   a   master’s   student,   my   primary   research   focus   is   on   Natural   Language   Processing   (NLP)     and   its   applications. \\n   Enhancing   AI   models   to   improve   text   understanding   and   generation \\n   Applying   NLP   techniques   in   real-world   industries,   such   as   energy   management,   automation, \\n   automation,   so   advancements   in   AI   should   align   with   global   ethical   standards. \\n   By   considering   cultural   and   societal   values,   we   can   develop   technology   that   serves   humanity   in   a   meaningful   way. \\n \\n One   of   the   biggest   challenges   I   have   faced   as   a   Master's   student   is   balancing   research,   coursework,   and   practical   projects. \\n   Managing   time   effectively   –   With   multiple   assignments,   research   projects,   and   technical   coursework,   it   requires   strong   time-management\"}\n"
     ]
    }
   ],
   "source": [
    "prompt_question = \"What specific research interests or academic goals do you hope to achieve during your time as a master’s student?\"\n",
    "answer = chain({\"question\":prompt_question})\n",
    "filtered_answer = {key: answer[key] for key in [\"question\", \"answer\"] if key in answer}\n",
    "print(filtered_answer)"
   ]
  },
  {
   "cell_type": "code",
   "execution_count": null,
   "metadata": {},
   "outputs": [],
   "source": []
  }
 ],
 "metadata": {
  "kernelspec": {
   "display_name": "Python 3 (ipykernel)",
   "language": "python",
   "name": "python3"
  },
  "language_info": {
   "codemirror_mode": {
    "name": "ipython",
    "version": 3
   },
   "file_extension": ".py",
   "mimetype": "text/x-python",
   "name": "python",
   "nbconvert_exporter": "python",
   "pygments_lexer": "ipython3",
   "version": "3.12.6"
  }
 },
 "nbformat": 4,
 "nbformat_minor": 4
}
